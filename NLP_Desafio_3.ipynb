{
  "cells": [
    {
      "cell_type": "markdown",
      "metadata": {
        "id": "g3yeJGnCYxuF"
      },
      "source": [
        "<img src=\"https://github.com/hernancontigiani/ceia_memorias_especializacion/raw/master/Figures/logoFIUBA.jpg\" width=\"500\" align=\"center\">\n",
        "\n",
        "\n",
        "# Procesamiento de lenguaje natural\n",
        "## Modelo de lenguaje con tokenización por caracteres\n",
        "\n",
        "\n",
        "# **Desafío 3**\n",
        "\n",
        "### Alumno **Daniel Fernando Herrera** (a1621)\n",
        "\n",
        "#### Texto seleccionado **Viaje al Centro de la Tierra**, de Julio Verne\n",
        "https://www.textos.info/julio-verne/viaje-al-centro-de-la-tierra/ebook"
      ]
    },
    {
      "cell_type": "markdown",
      "metadata": {
        "id": "Iv5PEwGzZA9-"
      },
      "source": [
        "### Consigna\n",
        "- Seleccionar un corpus de texto sobre el cual entrenar el modelo de lenguaje.\n",
        "- Realizar el pre-procesamiento adecuado para tokenizar el corpus, estructurar el dataset y separar entre datos de entrenamiento y validación.\n",
        "- Proponer arquitecturas de redes neuronales basadas en unidades recurrentes para implementar un modelo de lenguaje.\n",
        "- Con el o los modelos que consideren adecuados, generar nuevas secuencias a partir de secuencias de contexto con las estrategias de greedy search y beam search determístico y estocástico. En este último caso observar el efecto de la temperatura en la generación de secuencias.\n",
        "\n",
        "\n",
        "### Sugerencias\n",
        "- Durante el entrenamiento, guiarse por el descenso de la perplejidad en los datos de validación para finalizar el entrenamiento. Para ello se provee un callback.\n",
        "- Explorar utilizar SimpleRNN (celda de Elman), LSTM y GRU.\n",
        "- rmsprop es el optimizador recomendado para la buena convergencia. No obstante se pueden explorar otros.\n"
      ]
    },
    {
      "cell_type": "code",
      "execution_count": 1,
      "metadata": {
        "id": "Y-QdFbHZYj7C"
      },
      "outputs": [],
      "source": [
        "import random\n",
        "import io\n",
        "import pickle\n",
        "\n",
        "import numpy as np\n",
        "import pandas as pd\n",
        "import matplotlib.pyplot as plt\n",
        "from sklearn.model_selection import train_test_split\n",
        "\n",
        "from tensorflow import keras\n",
        "from tensorflow.keras import layers\n",
        "from keras.utils import to_categorical\n",
        "from keras.models import Sequential\n",
        "from keras.layers import Dense, LSTM, Embedding, Dropout\n",
        "from tensorflow.keras.losses import SparseCategoricalCrossentropy"
      ]
    },
    {
      "cell_type": "markdown",
      "metadata": {
        "id": "xTvXlEKQZdqx"
      },
      "source": [
        "### Datos\n",
        "Utilizaremos como dataset canciones de bandas de habla inglés."
      ]
    },
    {
      "cell_type": "code",
      "execution_count": 2,
      "metadata": {
        "id": "7amy6uUaBLVD"
      },
      "outputs": [],
      "source": [
        "# descargar de textos.info\n",
        "import urllib.request\n",
        "\n",
        "# Para leer y parsear el texto en HTML de wikipedia\n",
        "import bs4 as bs"
      ]
    },
    {
      "cell_type": "code",
      "execution_count": 3,
      "metadata": {
        "id": "6v_ickFwBJTy"
      },
      "outputs": [],
      "source": [
        "raw_html = urllib.request.urlopen('https://www.textos.info/julio-verne/viaje-al-centro-de-la-tierra/ebook')\n",
        "raw_html = raw_html.read()\n",
        "\n",
        "# Parsear artículo, 'lxml' es el parser a utilizar\n",
        "article_html = bs.BeautifulSoup(raw_html, 'lxml')\n",
        "\n",
        "# Encontrar todos los párrafos del HTML (bajo el tag <p>)\n",
        "# y tenerlos disponible como lista\n",
        "article_paragraphs = article_html.find_all('p')\n",
        "\n",
        "article_text = ''\n",
        "\n",
        "for para in article_paragraphs:\n",
        "    article_text += para.text + ' '\n",
        "\n",
        "# pasar todo el texto a minúscula\n",
        "article_text = article_text.lower()"
      ]
    },
    {
      "cell_type": "code",
      "execution_count": 4,
      "metadata": {
        "id": "WBE0sSYuB-E6",
        "colab": {
          "base_uri": "https://localhost:8080/",
          "height": 209
        },
        "outputId": "5b9d4025-b5d7-459c-af68-73165393a88a"
      },
      "outputs": [
        {
          "output_type": "execute_result",
          "data": {
            "text/plain": [
              "' el domingo 24 de mayo de 1863, mi tío, el profesor lidenbrock, entró \\r\\nrápidamente a su hogar, situado en el número 19 de la könig‑strasse, una\\r\\n de las calles más tradicionales del barrio antiguo de hamburgo. marta, su excelente criada, se preocupó sobremanera, creyendo que se \\r\\nhabía retrasado, pues apenas empezaba a cocinar la comida en el \\r\\nhornillo. “bueno” —pensé para mí—, “si mi tío viene con hambre, se va a armar \\r\\nla de san quintín; porque no conozco a otro hombre de menos paciencia”. —¡tan temprano y ya está aquí el señor lidenbrock! —exclamó la pobre marta, con arrebol, entreabriendo la puerta del comedor. —sí, marta; pero tú no tienes la culpa de que la comida no esté lista\\r\\n todavía, porque es temprano, aún no son las dos. acaba de dar la media \\r\\nhora en san miguel. —¿y por qué ha venido tan pronto el señor lidenbrock? —él lo explicará, seguramente. —¡ahí viene! yo me escapo. señor axel, cálmelo usted, por favor. y la excelente marta se retiró presurosa a su recinto culin'"
            ],
            "application/vnd.google.colaboratory.intrinsic+json": {
              "type": "string"
            }
          },
          "metadata": {},
          "execution_count": 4
        }
      ],
      "source": [
        "# en article text se encuentra el texto de todo el libro\n",
        "article_text[:1000]"
      ]
    },
    {
      "cell_type": "markdown",
      "source": [
        "#### **Normalizar saltos de línea y espacios múltiples.**\n",
        "\n",
        ">Se observa repetidamente '\\r\\n' que corresponde a saltos de líneas. Se realiza una limpieza del texto."
      ],
      "metadata": {
        "id": "IKdswaAvzLhf"
      }
    },
    {
      "cell_type": "code",
      "source": [
        "import re\n",
        "article_text = re.sub(r'\\s+', ' ', article_text)\n"
      ],
      "metadata": {
        "id": "I7eiTxjfyyPj"
      },
      "execution_count": 5,
      "outputs": []
    },
    {
      "cell_type": "code",
      "source": [
        "article_text[:1000]"
      ],
      "metadata": {
        "colab": {
          "base_uri": "https://localhost:8080/",
          "height": 209
        },
        "id": "JUXH2Fmby0mc",
        "outputId": "ff70e5b4-6c3b-4ca6-8b1f-a61106242466"
      },
      "execution_count": 6,
      "outputs": [
        {
          "output_type": "execute_result",
          "data": {
            "text/plain": [
              "' el domingo 24 de mayo de 1863, mi tío, el profesor lidenbrock, entró rápidamente a su hogar, situado en el número 19 de la könig‑strasse, una de las calles más tradicionales del barrio antiguo de hamburgo. marta, su excelente criada, se preocupó sobremanera, creyendo que se había retrasado, pues apenas empezaba a cocinar la comida en el hornillo. “bueno” —pensé para mí—, “si mi tío viene con hambre, se va a armar la de san quintín; porque no conozco a otro hombre de menos paciencia”. —¡tan temprano y ya está aquí el señor lidenbrock! —exclamó la pobre marta, con arrebol, entreabriendo la puerta del comedor. —sí, marta; pero tú no tienes la culpa de que la comida no esté lista todavía, porque es temprano, aún no son las dos. acaba de dar la media hora en san miguel. —¿y por qué ha venido tan pronto el señor lidenbrock? —él lo explicará, seguramente. —¡ahí viene! yo me escapo. señor axel, cálmelo usted, por favor. y la excelente marta se retiró presurosa a su recinto culinario, dejándom'"
            ],
            "application/vnd.google.colaboratory.intrinsic+json": {
              "type": "string"
            }
          },
          "metadata": {},
          "execution_count": 6
        }
      ]
    },
    {
      "cell_type": "markdown",
      "metadata": {
        "id": "cP1JdiOIKQWi"
      },
      "source": [
        "### Elegir el tamaño del contexto\n",
        "\n",
        "En este caso, como el modelo de lenguaje es por caracteres, todo un gran corpus\n",
        "de texto puede ser considerado un documento en sí mismo y el tamaño de contexto\n",
        "puede ser elegido con más libertad en comparación a un modelo de lenguaje tokenizado por palabras y dividido en documentos más acotados."
      ]
    },
    {
      "cell_type": "markdown",
      "source": [
        "> **Tamaño del Contexto** significa \"cuántos caracteres anteriores va a usar el modelo para predecir el siguiente carácter\".*"
      ],
      "metadata": {
        "id": "25-aty9V1pNC"
      }
    },
    {
      "cell_type": "code",
      "execution_count": 7,
      "metadata": {
        "id": "wumBNwdjJM3j"
      },
      "outputs": [],
      "source": [
        "# seleccionamos el tamaño de contexto\n",
        "max_context_size = 100"
      ]
    },
    {
      "cell_type": "code",
      "execution_count": 8,
      "metadata": {
        "id": "m5FeTaGvbDbw"
      },
      "outputs": [],
      "source": [
        "# Usaremos las utilidades de procesamiento de textos y secuencias de Keras\n",
        "from tensorflow.keras.utils import pad_sequences # se utilizará para padding"
      ]
    },
    {
      "cell_type": "code",
      "execution_count": 9,
      "metadata": {
        "id": "573Cg5n7VhWw"
      },
      "outputs": [],
      "source": [
        "# en este caso el vocabulario es el conjunto único de caracteres que existe en todo el texto\n",
        "chars_vocab = set(article_text)"
      ]
    },
    {
      "cell_type": "markdown",
      "source": [
        "> **Cantidad de carácteres únicos en el texto**, incluyendo espacio y otros signos, además de letras."
      ],
      "metadata": {
        "id": "O0NOXz_W2r8r"
      }
    },
    {
      "cell_type": "code",
      "execution_count": 10,
      "metadata": {
        "id": "VwTK6xgLJd8q",
        "colab": {
          "base_uri": "https://localhost:8080/"
        },
        "outputId": "6b5764af-be27-4657-b548-34eb119981cb"
      },
      "outputs": [
        {
          "output_type": "execute_result",
          "data": {
            "text/plain": [
              "74"
            ]
          },
          "metadata": {},
          "execution_count": 10
        }
      ],
      "source": [
        "# la longitud de vocabulario de caracteres es:\n",
        "len(chars_vocab)"
      ]
    },
    {
      "cell_type": "code",
      "execution_count": 11,
      "metadata": {
        "id": "2W0AeQjXV1Ou"
      },
      "outputs": [],
      "source": [
        "# Construimos los dicionarios que asignan índices a caracteres y viceversa.\n",
        "# El diccionario `char2idx` servirá como tokenizador.\n",
        "char2idx = {k: v for v,k in enumerate(chars_vocab)}\n",
        "idx2char = {v: k for k,v in char2idx.items()}"
      ]
    },
    {
      "cell_type": "markdown",
      "metadata": {
        "id": "2oIUjVU0LB0r"
      },
      "source": [
        "###  Tokenizar"
      ]
    },
    {
      "cell_type": "markdown",
      "source": [
        "> Tokenizar el texto completo utilizando el diccionario previamente construido."
      ],
      "metadata": {
        "id": "gYWl9rya36Xj"
      }
    },
    {
      "cell_type": "code",
      "execution_count": 12,
      "metadata": {
        "id": "h07G3srdJppo"
      },
      "outputs": [],
      "source": [
        "# tokenizamos el texto completo\n",
        "tokenized_text = [char2idx[ch] for ch in article_text]"
      ]
    },
    {
      "cell_type": "code",
      "execution_count": 13,
      "metadata": {
        "id": "PwGVSKOiJ5bj",
        "colab": {
          "base_uri": "https://localhost:8080/"
        },
        "outputId": "c2bd1c48-5ea0-42ad-dd9a-4210f90ad005"
      },
      "outputs": [
        {
          "output_type": "execute_result",
          "data": {
            "text/plain": [
              "[48,\n",
              " 54,\n",
              " 17,\n",
              " 48,\n",
              " 63,\n",
              " 61,\n",
              " 14,\n",
              " 3,\n",
              " 18,\n",
              " 0,\n",
              " 61,\n",
              " 48,\n",
              " 21,\n",
              " 47,\n",
              " 48,\n",
              " 63,\n",
              " 54,\n",
              " 48,\n",
              " 14,\n",
              " 69,\n",
              " 57,\n",
              " 61,\n",
              " 48,\n",
              " 63,\n",
              " 54,\n",
              " 48,\n",
              " 68,\n",
              " 40,\n",
              " 71,\n",
              " 72,\n",
              " 60,\n",
              " 48,\n",
              " 14,\n",
              " 3,\n",
              " 48,\n",
              " 53,\n",
              " 45,\n",
              " 61,\n",
              " 60,\n",
              " 48,\n",
              " 54,\n",
              " 17,\n",
              " 48,\n",
              " 65,\n",
              " 58,\n",
              " 61,\n",
              " 30,\n",
              " 54,\n",
              " 1,\n",
              " 61,\n",
              " 58,\n",
              " 48,\n",
              " 17,\n",
              " 3,\n",
              " 63,\n",
              " 54,\n",
              " 18,\n",
              " 32,\n",
              " 58,\n",
              " 61,\n",
              " 49,\n",
              " 66,\n",
              " 60,\n",
              " 48,\n",
              " 54,\n",
              " 18,\n",
              " 53,\n",
              " 58,\n",
              " 24,\n",
              " 48,\n",
              " 58,\n",
              " 4,\n",
              " 65,\n",
              " 3,\n",
              " 63,\n",
              " 69,\n",
              " 14,\n",
              " 54,\n",
              " 18,\n",
              " 53,\n",
              " 54,\n",
              " 48,\n",
              " 69,\n",
              " 48,\n",
              " 1,\n",
              " 6,\n",
              " 48,\n",
              " 29,\n",
              " 61,\n",
              " 0,\n",
              " 69,\n",
              " 58,\n",
              " 60,\n",
              " 48,\n",
              " 1,\n",
              " 3,\n",
              " 53,\n",
              " 6,\n",
              " 69,\n",
              " 63,\n",
              " 61,\n",
              " 48,\n",
              " 54,\n",
              " 18,\n",
              " 48,\n",
              " 54,\n",
              " 17,\n",
              " 48,\n",
              " 18,\n",
              " 44,\n",
              " 14,\n",
              " 54,\n",
              " 58,\n",
              " 61,\n",
              " 48,\n",
              " 68,\n",
              " 31,\n",
              " 48,\n",
              " 63,\n",
              " 54,\n",
              " 48,\n",
              " 17,\n",
              " 69,\n",
              " 48,\n",
              " 66,\n",
              " 33,\n",
              " 18,\n",
              " 3,\n",
              " 0,\n",
              " 2,\n",
              " 1,\n",
              " 53,\n",
              " 58,\n",
              " 69,\n",
              " 1,\n",
              " 1,\n",
              " 54,\n",
              " 60,\n",
              " 48,\n",
              " 6,\n",
              " 18,\n",
              " 69,\n",
              " 48,\n",
              " 63,\n",
              " 54,\n",
              " 48,\n",
              " 17,\n",
              " 69,\n",
              " 1,\n",
              " 48,\n",
              " 49,\n",
              " 69,\n",
              " 17,\n",
              " 17,\n",
              " 54,\n",
              " 1,\n",
              " 48,\n",
              " 14,\n",
              " 4,\n",
              " 1,\n",
              " 48,\n",
              " 53,\n",
              " 58,\n",
              " 69,\n",
              " 63,\n",
              " 3,\n",
              " 49,\n",
              " 3,\n",
              " 61,\n",
              " 18,\n",
              " 69,\n",
              " 17,\n",
              " 54,\n",
              " 1,\n",
              " 48,\n",
              " 63,\n",
              " 54,\n",
              " 17,\n",
              " 48,\n",
              " 32,\n",
              " 69,\n",
              " 58,\n",
              " 58,\n",
              " 3,\n",
              " 61,\n",
              " 48,\n",
              " 69,\n",
              " 18,\n",
              " 53,\n",
              " 3,\n",
              " 0,\n",
              " 6,\n",
              " 61,\n",
              " 48,\n",
              " 63,\n",
              " 54,\n",
              " 48,\n",
              " 29,\n",
              " 69,\n",
              " 14,\n",
              " 32,\n",
              " 6,\n",
              " 58,\n",
              " 0,\n",
              " 61,\n",
              " 39,\n",
              " 48,\n",
              " 14,\n",
              " 69,\n",
              " 58,\n",
              " 53,\n",
              " 69,\n",
              " 60,\n",
              " 48,\n",
              " 1,\n",
              " 6,\n",
              " 48,\n",
              " 54,\n",
              " 12,\n",
              " 49,\n",
              " 54,\n",
              " 17,\n",
              " 54,\n",
              " 18,\n",
              " 53,\n",
              " 54,\n",
              " 48,\n",
              " 49,\n",
              " 58,\n",
              " 3,\n",
              " 69,\n",
              " 63,\n",
              " 69,\n",
              " 60,\n",
              " 48,\n",
              " 1,\n",
              " 54,\n",
              " 48,\n",
              " 65,\n",
              " 58,\n",
              " 54,\n",
              " 61,\n",
              " 49,\n",
              " 6,\n",
              " 65,\n",
              " 24,\n",
              " 48,\n",
              " 1,\n",
              " 61,\n",
              " 32,\n",
              " 58,\n",
              " 54,\n",
              " 14,\n",
              " 69,\n",
              " 18,\n",
              " 54,\n",
              " 58,\n",
              " 69,\n",
              " 60,\n",
              " 48,\n",
              " 49,\n",
              " 58,\n",
              " 54,\n",
              " 57,\n",
              " 54,\n",
              " 18,\n",
              " 63,\n",
              " 61,\n",
              " 48,\n",
              " 34,\n",
              " 6,\n",
              " 54,\n",
              " 48,\n",
              " 1,\n",
              " 54,\n",
              " 48,\n",
              " 29,\n",
              " 69,\n",
              " 32,\n",
              " 45,\n",
              " 69,\n",
              " 48,\n",
              " 58,\n",
              " 54,\n",
              " 53,\n",
              " 58,\n",
              " 69,\n",
              " 1,\n",
              " 69,\n",
              " 63,\n",
              " 61,\n",
              " 60,\n",
              " 48,\n",
              " 65,\n",
              " 6,\n",
              " 54,\n",
              " 1,\n",
              " 48,\n",
              " 69,\n",
              " 65,\n",
              " 54,\n",
              " 18,\n",
              " 69,\n",
              " 1,\n",
              " 48,\n",
              " 54,\n",
              " 14,\n",
              " 65,\n",
              " 54,\n",
              " 67,\n",
              " 69,\n",
              " 32,\n",
              " 69,\n",
              " 48,\n",
              " 69,\n",
              " 48,\n",
              " 49,\n",
              " 61,\n",
              " 49,\n",
              " 3,\n",
              " 18,\n",
              " 69,\n",
              " 58,\n",
              " 48,\n",
              " 17,\n",
              " 69,\n",
              " 48,\n",
              " 49,\n",
              " 61,\n",
              " 14,\n",
              " 3,\n",
              " 63,\n",
              " 69,\n",
              " 48,\n",
              " 54,\n",
              " 18,\n",
              " 48,\n",
              " 54,\n",
              " 17,\n",
              " 48,\n",
              " 29,\n",
              " 61,\n",
              " 58,\n",
              " 18,\n",
              " 3,\n",
              " 17,\n",
              " 17,\n",
              " 61,\n",
              " 39,\n",
              " 48,\n",
              " 64,\n",
              " 32,\n",
              " 6,\n",
              " 54,\n",
              " 18,\n",
              " 61,\n",
              " 70,\n",
              " 48,\n",
              " 23,\n",
              " 65,\n",
              " 54,\n",
              " 18,\n",
              " 1,\n",
              " 20,\n",
              " 48,\n",
              " 65,\n",
              " 69,\n",
              " 58,\n",
              " 69,\n",
              " 48,\n",
              " 14,\n",
              " 45,\n",
              " 23,\n",
              " 60,\n",
              " 48,\n",
              " 64,\n",
              " 1,\n",
              " 3,\n",
              " 48,\n",
              " 14,\n",
              " 3,\n",
              " 48,\n",
              " 53,\n",
              " 45,\n",
              " 61,\n",
              " 48,\n",
              " 73,\n",
              " 3,\n",
              " 54,\n",
              " 18,\n",
              " 54,\n",
              " 48,\n",
              " 49,\n",
              " 61,\n",
              " 18,\n",
              " 48,\n",
              " 29,\n",
              " 69,\n",
              " 14,\n",
              " 32,\n",
              " 58,\n",
              " 54,\n",
              " 60,\n",
              " 48,\n",
              " 1,\n",
              " 54,\n",
              " 48,\n",
              " 73,\n",
              " 69,\n",
              " 48,\n",
              " 69,\n",
              " 48,\n",
              " 69,\n",
              " 58,\n",
              " 14,\n",
              " 69,\n",
              " 58,\n",
              " 48,\n",
              " 17,\n",
              " 69,\n",
              " 48,\n",
              " 63,\n",
              " 54,\n",
              " 48,\n",
              " 1,\n",
              " 69,\n",
              " 18,\n",
              " 48,\n",
              " 34,\n",
              " 6,\n",
              " 3,\n",
              " 18,\n",
              " 53,\n",
              " 45,\n",
              " 18,\n",
              " 25,\n",
              " 48,\n",
              " 65,\n",
              " 61,\n",
              " 58,\n",
              " 34,\n",
              " 6,\n",
              " 54,\n",
              " 48,\n",
              " 18,\n",
              " 61,\n",
              " 48,\n",
              " 49,\n",
              " 61,\n",
              " 18,\n",
              " 61,\n",
              " 67,\n",
              " 49,\n",
              " 61,\n",
              " 48,\n",
              " 69,\n",
              " 48,\n",
              " 61,\n",
              " 53,\n",
              " 58,\n",
              " 61,\n",
              " 48,\n",
              " 29,\n",
              " 61,\n",
              " 14,\n",
              " 32,\n",
              " 58,\n",
              " 54,\n",
              " 48,\n",
              " 63,\n",
              " 54,\n",
              " 48,\n",
              " 14,\n",
              " 54,\n",
              " 18,\n",
              " 61,\n",
              " 1,\n",
              " 48,\n",
              " 65,\n",
              " 69,\n",
              " 49,\n",
              " 3,\n",
              " 54,\n",
              " 18,\n",
              " 49,\n",
              " 3,\n",
              " 69,\n",
              " 70,\n",
              " 39,\n",
              " 48,\n",
              " 23,\n",
              " 11,\n",
              " 53,\n",
              " 69,\n",
              " 18,\n",
              " 48,\n",
              " 53,\n",
              " 54,\n",
              " 14,\n",
              " 65,\n",
              " 58,\n",
              " 69,\n",
              " 18,\n",
              " 61,\n",
              " 48,\n",
              " 57,\n",
              " 48,\n",
              " 57,\n",
              " 69,\n",
              " 48,\n",
              " 54,\n",
              " 1,\n",
              " 53,\n",
              " 4,\n",
              " 48,\n",
              " 69,\n",
              " 34,\n",
              " 6,\n",
              " 45,\n",
              " 48,\n",
              " 54,\n",
              " 17,\n",
              " 48,\n",
              " 1,\n",
              " 54,\n",
              " 42,\n",
              " 61,\n",
              " 58,\n",
              " 48,\n",
              " 17,\n",
              " 3,\n",
              " 63,\n",
              " 54,\n",
              " 18,\n",
              " 32,\n",
              " 58,\n",
              " 61,\n",
              " 49,\n",
              " 66,\n",
              " 55,\n",
              " 48,\n",
              " 23,\n",
              " 54,\n",
              " 12,\n",
              " 49,\n",
              " 17,\n",
              " 69,\n",
              " 14,\n",
              " 24,\n",
              " 48,\n",
              " 17,\n",
              " 69,\n",
              " 48,\n",
              " 65,\n",
              " 61,\n",
              " 32,\n",
              " 58,\n",
              " 54,\n",
              " 48,\n",
              " 14,\n",
              " 69,\n",
              " 58,\n",
              " 53,\n",
              " 69,\n",
              " 60,\n",
              " 48,\n",
              " 49,\n",
              " 61,\n",
              " 18,\n",
              " 48,\n",
              " 69,\n",
              " 58,\n",
              " 58,\n",
              " 54,\n",
              " 32,\n",
              " 61,\n",
              " 17,\n",
              " 60,\n",
              " 48,\n",
              " 54,\n",
              " 18,\n",
              " 53,\n",
              " 58,\n",
              " 54,\n",
              " 69,\n",
              " 32,\n",
              " 58,\n",
              " 3,\n",
              " 54,\n",
              " 18,\n",
              " 63,\n",
              " 61,\n",
              " 48,\n",
              " 17,\n",
              " 69,\n",
              " 48,\n",
              " 65,\n",
              " 6,\n",
              " 54,\n",
              " 58,\n",
              " 53,\n",
              " 69,\n",
              " 48,\n",
              " 63,\n",
              " 54,\n",
              " 17,\n",
              " 48,\n",
              " 49,\n",
              " 61,\n",
              " 14,\n",
              " 54,\n",
              " 63,\n",
              " 61,\n",
              " 58,\n",
              " 39,\n",
              " 48,\n",
              " 23,\n",
              " 1,\n",
              " 45,\n",
              " 60,\n",
              " 48,\n",
              " 14,\n",
              " 69,\n",
              " 58,\n",
              " 53,\n",
              " 69,\n",
              " 25,\n",
              " 48,\n",
              " 65,\n",
              " 54,\n",
              " 58,\n",
              " 61,\n",
              " 48,\n",
              " 53,\n",
              " 44,\n",
              " 48,\n",
              " 18,\n",
              " 61,\n",
              " 48,\n",
              " 53,\n",
              " 3,\n",
              " 54,\n",
              " 18,\n",
              " 54,\n",
              " 1,\n",
              " 48,\n",
              " 17,\n",
              " 69,\n",
              " 48,\n",
              " 49,\n",
              " 6,\n",
              " 17,\n",
              " 65,\n",
              " 69,\n",
              " 48,\n",
              " 63,\n",
              " 54,\n",
              " 48,\n",
              " 34,\n",
              " 6,\n",
              " 54,\n",
              " 48,\n",
              " 17,\n",
              " 69,\n",
              " 48,\n",
              " 49,\n",
              " 61,\n",
              " 14,\n",
              " 3,\n",
              " 63,\n",
              " 69,\n",
              " 48,\n",
              " 18,\n",
              " 61,\n",
              " 48,\n",
              " 54,\n",
              " 1,\n",
              " 53,\n",
              " 20,\n",
              " 48,\n",
              " 17,\n",
              " 3,\n",
              " 1,\n",
              " 53,\n",
              " 69,\n",
              " 48,\n",
              " 53,\n",
              " 61,\n",
              " 63,\n",
              " 69,\n",
              " 73,\n",
              " 45,\n",
              " 69,\n",
              " 60,\n",
              " 48,\n",
              " 65,\n",
              " 61,\n",
              " 58,\n",
              " 34,\n",
              " 6,\n",
              " 54,\n",
              " 48,\n",
              " 54,\n",
              " 1,\n",
              " 48,\n",
              " 53,\n",
              " 54,\n",
              " 14,\n",
              " 65,\n",
              " 58,\n",
              " 69,\n",
              " 18,\n",
              " 61,\n",
              " 60,\n",
              " 48,\n",
              " 69,\n",
              " 44,\n",
              " 18,\n",
              " 48,\n",
              " 18,\n",
              " 61,\n",
              " 48,\n",
              " 1,\n",
              " 61,\n",
              " 18,\n",
              " 48,\n",
              " 17,\n",
              " 69,\n",
              " 1,\n",
              " 48,\n",
              " 63,\n",
              " 61,\n",
              " 1,\n",
              " 39,\n",
              " 48,\n",
              " 69,\n",
              " 49,\n",
              " 69,\n",
              " 32,\n",
              " 69,\n",
              " 48,\n",
              " 63,\n",
              " 54,\n",
              " 48,\n",
              " 63,\n",
              " 69,\n",
              " 58,\n",
              " 48,\n",
              " 17,\n",
              " 69,\n",
              " 48,\n",
              " 14,\n",
              " 54,\n",
              " 63,\n",
              " 3,\n",
              " 69,\n",
              " 48,\n",
              " 29,\n",
              " 61,\n",
              " 58,\n",
              " 69,\n",
              " 48,\n",
              " 54,\n",
              " 18,\n",
              " 48,\n",
              " 1,\n",
              " 69,\n",
              " 18,\n",
              " 48,\n",
              " 14,\n",
              " 3,\n",
              " 0,\n",
              " 6,\n",
              " 54,\n",
              " 17,\n",
              " 39,\n",
              " 48,\n",
              " 23,\n",
              " 19,\n",
              " 57,\n",
              " 48,\n",
              " 65,\n",
              " 61,\n",
              " 58,\n",
              " 48,\n",
              " 34,\n",
              " 6,\n",
              " 20,\n",
              " 48,\n",
              " 29,\n",
              " 69,\n",
              " 48,\n",
              " 73,\n",
              " 54,\n",
              " 18,\n",
              " 3,\n",
              " 63,\n",
              " 61,\n",
              " 48,\n",
              " 53,\n",
              " 69,\n",
              " 18,\n",
              " 48,\n",
              " 65,\n",
              " 58,\n",
              " 61,\n",
              " 18,\n",
              " 53,\n",
              " 61,\n",
              " 48,\n",
              " 54,\n",
              " 17,\n",
              " 48,\n",
              " 1,\n",
              " 54,\n",
              " 42,\n",
              " 61,\n",
              " 58,\n",
              " 48,\n",
              " 17,\n",
              " 3,\n",
              " 63,\n",
              " 54,\n",
              " 18,\n",
              " 32,\n",
              " 58,\n",
              " 61,\n",
              " 49,\n",
              " 66,\n",
              " 52,\n",
              " 48,\n",
              " 23,\n",
              " 20,\n",
              " 17,\n",
              " 48,\n",
              " 17,\n",
              " 61,\n",
              " 48,\n",
              " 54,\n",
              " 12,\n",
              " 65,\n",
              " 17,\n",
              " 3,\n",
              " 49,\n",
              " 69,\n",
              " 58,\n",
              " 4,\n",
              " 60,\n",
              " 48,\n",
              " 1,\n",
              " 54,\n",
              " 0,\n",
              " 6,\n",
              " 58,\n",
              " 69,\n",
              " 14,\n",
              " 54,\n",
              " 18,\n",
              " 53,\n",
              " 54,\n",
              " 39,\n",
              " 48,\n",
              " 23,\n",
              " 11,\n",
              " 69,\n",
              " 29,\n",
              " 45,\n",
              " 48,\n",
              " 73,\n",
              " 3,\n",
              " 54,\n",
              " 18,\n",
              " 54,\n",
              " 55,\n",
              " 48,\n",
              " 57,\n",
              " 61,\n",
              " 48,\n",
              " 14,\n",
              " 54,\n",
              " 48,\n",
              " 54,\n",
              " 1,\n",
              " 49,\n",
              " 69,\n",
              " 65,\n",
              " 61,\n",
              " 39,\n",
              " 48,\n",
              " 1,\n",
              " 54,\n",
              " 42,\n",
              " 61,\n",
              " 58,\n",
              " 48,\n",
              " 69,\n",
              " 12,\n",
              " 54,\n",
              " 17,\n",
              " 60,\n",
              " 48,\n",
              " 49,\n",
              " 4,\n",
              " 17,\n",
              " 14,\n",
              " 54,\n",
              " 17,\n",
              " 61,\n",
              " 48,\n",
              " 6,\n",
              " 1,\n",
              " 53,\n",
              " 54,\n",
              " 63,\n",
              " 60,\n",
              " 48,\n",
              " 65,\n",
              " 61,\n",
              " 58,\n",
              " 48,\n",
              " 30,\n",
              " 69,\n",
              " 73,\n",
              " 61,\n",
              " 58,\n",
              " 39,\n",
              " 48,\n",
              " 57,\n",
              " 48,\n",
              " 17,\n",
              " 69,\n",
              " 48,\n",
              " 54,\n",
              " 12,\n",
              " 49,\n",
              " 54,\n",
              " 17,\n",
              " 54,\n",
              " 18,\n",
              " 53,\n",
              " 54,\n",
              " 48,\n",
              " 14,\n",
              " 69,\n",
              " 58,\n",
              " 53,\n",
              " 69,\n",
              " 48,\n",
              " 1,\n",
              " 54,\n",
              " 48,\n",
              " 58,\n",
              " 54,\n",
              " 53,\n",
              " 3,\n",
              " 58,\n",
              " 24,\n",
              " 48,\n",
              " 65,\n",
              " 58,\n",
              " 54,\n",
              " 1,\n",
              " 6,\n",
              " 58,\n",
              " 61,\n",
              " 1,\n",
              " 69,\n",
              " 48,\n",
              " 69,\n",
              " 48,\n",
              " 1,\n",
              " 6,\n",
              " 48,\n",
              " 58,\n",
              " 54,\n",
              " 49,\n",
              " 3,\n",
              " 18,\n",
              " 53,\n",
              " 61,\n",
              " 48,\n",
              " 49,\n",
              " 6,\n",
              " 17,\n",
              " 3,\n",
              " 18,\n",
              " 69,\n",
              " 58,\n",
              " 3,\n",
              " 61,\n",
              " 60,\n",
              " 48,\n",
              " 63,\n",
              " 54,\n",
              " 26,\n",
              " 4,\n",
              " 18,\n",
              " 63,\n",
              " 61,\n",
              " 14]"
            ]
          },
          "metadata": {},
          "execution_count": 13
        }
      ],
      "source": [
        "tokenized_text[:1000]"
      ]
    },
    {
      "cell_type": "markdown",
      "metadata": {
        "id": "pfpYcaypKcI9"
      },
      "source": [
        "### Organizando y estructurando el dataset"
      ]
    },
    {
      "cell_type": "markdown",
      "source": [
        "> **Separar el dataset entre entrenamiento y validación.**\n",
        "\n",
        ">`p_val = 0.1` , 10% del texto como validación."
      ],
      "metadata": {
        "id": "kS_94beV54Ci"
      }
    },
    {
      "cell_type": "code",
      "execution_count": 14,
      "metadata": {
        "id": "WSSmg9jtKP0T"
      },
      "outputs": [],
      "source": [
        "# separaremos el dataset entre entrenamiento y validación.\n",
        "# `p_val` será la proporción del corpus que se reservará para validación\n",
        "# `num_val` es la cantidad de secuencias de tamaño `max_context_size` que se usará en validación\n",
        "p_val = 0.1\n",
        "num_val = int(np.ceil(len(tokenized_text)*p_val/max_context_size))"
      ]
    },
    {
      "cell_type": "code",
      "execution_count": 15,
      "metadata": {
        "id": "b7dCpGrdKll0"
      },
      "outputs": [],
      "source": [
        "# separamos la porción de texto utilizada en entrenamiento de la de validación.\n",
        "train_text = tokenized_text[:-num_val*max_context_size]\n",
        "val_text = tokenized_text[-num_val*max_context_size:]"
      ]
    },
    {
      "cell_type": "markdown",
      "source": [
        "> Crear pequeñas secuencias de tamaño max_context_size + 1."
      ],
      "metadata": {
        "id": "8QUWU0Bj7MMc"
      }
    },
    {
      "cell_type": "code",
      "execution_count": 16,
      "metadata": {
        "id": "NmxQdxl8LRCg"
      },
      "outputs": [],
      "source": [
        "tokenized_sentences_val = [val_text[init*max_context_size:init*(max_context_size+1)] for init in range(num_val)]"
      ]
    },
    {
      "cell_type": "code",
      "execution_count": 17,
      "metadata": {
        "id": "_gyFT9koLqDm"
      },
      "outputs": [],
      "source": [
        "tokenized_sentences_train = [train_text[init:init+max_context_size] for init in range(len(train_text)-max_context_size+1)]"
      ]
    },
    {
      "cell_type": "code",
      "execution_count": 18,
      "metadata": {
        "id": "oVNqmmLRodT0"
      },
      "outputs": [],
      "source": [
        "X = np.array(tokenized_sentences_train[:-1])\n",
        "y = np.array(tokenized_sentences_train[1:])"
      ]
    },
    {
      "cell_type": "markdown",
      "metadata": {
        "id": "Vken7O4ETsAJ"
      },
      "source": [
        "Nótese que estamos estructurando el problema de aprendizaje como *many-to-many*:\n",
        "\n",
        "Entrada: secuencia de tokens [$x_0$, $x_1$, ..., $x_N$]\n",
        "\n",
        "Target: secuencia de tokens [$x_1$, $x_2$, ..., $x_{N+1}$]\n",
        "\n",
        "De manera que la red tiene que aprender que su salida deben ser los tokens desplazados en una posición y un nuevo token predicho (el N+1).\n",
        "\n",
        "La ventaja de estructurar el aprendizaje de esta manera es que para cada token de target se propaga una señal de gradiente por el grafo de cómputo recurrente, que es mejor que estructurar el problema como *many-to-one* en donde sólo una señal de gradiente se propaga."
      ]
    },
    {
      "cell_type": "markdown",
      "metadata": {
        "id": "l3iPTx-UJl6r"
      },
      "source": [
        "En este punto tenemos en la variable `tokenized_sentences` los versos tokenizados. Vamos a quedarnos con un conjunto de validación que utilizaremos para medir la calidad de la generación de secuencias con la métrica de Perplejidad."
      ]
    },
    {
      "cell_type": "code",
      "execution_count": 19,
      "metadata": {
        "id": "KFAyA4zCWE-5",
        "colab": {
          "base_uri": "https://localhost:8080/"
        },
        "outputId": "8a678413-fad1-45ba-d413-05a795a2583d"
      },
      "outputs": [
        {
          "output_type": "execute_result",
          "data": {
            "text/plain": [
              "(381390, 100)"
            ]
          },
          "metadata": {},
          "execution_count": 19
        }
      ],
      "source": [
        "X.shape"
      ]
    },
    {
      "cell_type": "code",
      "execution_count": 20,
      "metadata": {
        "id": "qcKRl70HFTzG",
        "colab": {
          "base_uri": "https://localhost:8080/"
        },
        "outputId": "3936ff0e-0e57-4c9a-8fe2-7c1f17a0cb8a"
      },
      "outputs": [
        {
          "output_type": "execute_result",
          "data": {
            "text/plain": [
              "array([48, 54, 17, 48, 63, 61, 14,  3, 18,  0])"
            ]
          },
          "metadata": {},
          "execution_count": 20
        }
      ],
      "source": [
        "X[0,:10]"
      ]
    },
    {
      "cell_type": "code",
      "execution_count": 21,
      "metadata": {
        "id": "TVpLCKSZFXZO",
        "colab": {
          "base_uri": "https://localhost:8080/"
        },
        "outputId": "73e8f44f-5dd5-4d06-95d3-165c15bcbb58"
      },
      "outputs": [
        {
          "output_type": "execute_result",
          "data": {
            "text/plain": [
              "array([54, 17, 48, 63, 61, 14,  3, 18,  0, 61])"
            ]
          },
          "metadata": {},
          "execution_count": 21
        }
      ],
      "source": [
        "y[0,:10]"
      ]
    },
    {
      "cell_type": "code",
      "execution_count": 22,
      "metadata": {
        "id": "wOFCR-KqbW1N"
      },
      "outputs": [],
      "source": [
        "vocab_size = len(chars_vocab)"
      ]
    },
    {
      "cell_type": "code",
      "source": [
        "print(vocab_size)"
      ],
      "metadata": {
        "colab": {
          "base_uri": "https://localhost:8080/"
        },
        "id": "sB1ETNV_7r3P",
        "outputId": "e9559725-ee50-4f21-ba7b-3f0b507d4b1c"
      },
      "execution_count": 23,
      "outputs": [
        {
          "output_type": "stream",
          "name": "stdout",
          "text": [
            "74\n"
          ]
        }
      ]
    },
    {
      "cell_type": "markdown",
      "metadata": {
        "id": "tnnjdAQ5UAEJ"
      },
      "source": [
        "# Definiendo el modelo"
      ]
    },
    {
      "cell_type": "code",
      "execution_count": 24,
      "metadata": {
        "id": "rkMCZvmhrQz4"
      },
      "outputs": [],
      "source": [
        "from keras.layers import Input, TimeDistributed, CategoryEncoding, SimpleRNN, Dense\n",
        "from keras.models import Model, Sequential"
      ]
    },
    {
      "cell_type": "markdown",
      "metadata": {
        "id": "wgz7VKwTUbj6"
      },
      "source": [
        "El modelo que se propone como ejemplo consume los índices de los tokens y los transforma en vectores OHE (en este caso no entrenamos una capa de embedding para caracteres). Esa transformación se logra combinando las capas `CategoryEncoding` que transforma a índices a vectores OHE y `TimeDistributed` que aplica la capa a lo largo de la dimensión \"temporal\" de la secuencia."
      ]
    },
    {
      "cell_type": "markdown",
      "source": [
        "> En SimpleRNN se tiene 200 neuronas internas que recuerdan contexto previo."
      ],
      "metadata": {
        "id": "cg6J7Twj88GF"
      }
    },
    {
      "cell_type": "code",
      "execution_count": 25,
      "metadata": {
        "id": "Zd2OkfQYs2Q7",
        "colab": {
          "base_uri": "https://localhost:8080/",
          "height": 296
        },
        "outputId": "ff7c63bc-a872-4ddb-a497-d0380c2f8ff3"
      },
      "outputs": [
        {
          "output_type": "stream",
          "name": "stderr",
          "text": [
            "/usr/local/lib/python3.11/dist-packages/keras/src/layers/core/wrapper.py:27: UserWarning: Do not pass an `input_shape`/`input_dim` argument to a layer. When using Sequential models, prefer using an `Input(shape)` object as the first layer in the model instead.\n",
            "  super().__init__(**kwargs)\n"
          ]
        },
        {
          "output_type": "display_data",
          "data": {
            "text/plain": [
              "\u001b[1mModel: \"sequential\"\u001b[0m\n"
            ],
            "text/html": [
              "<pre style=\"white-space:pre;overflow-x:auto;line-height:normal;font-family:Menlo,'DejaVu Sans Mono',consolas,'Courier New',monospace\"><span style=\"font-weight: bold\">Model: \"sequential\"</span>\n",
              "</pre>\n"
            ]
          },
          "metadata": {}
        },
        {
          "output_type": "display_data",
          "data": {
            "text/plain": [
              "┏━━━━━━━━━━━━━━━━━━━━━━━━━━━━━━━━━┳━━━━━━━━━━━━━━━━━━━━━━━━┳━━━━━━━━━━━━━━━┓\n",
              "┃\u001b[1m \u001b[0m\u001b[1mLayer (type)                   \u001b[0m\u001b[1m \u001b[0m┃\u001b[1m \u001b[0m\u001b[1mOutput Shape          \u001b[0m\u001b[1m \u001b[0m┃\u001b[1m \u001b[0m\u001b[1m      Param #\u001b[0m\u001b[1m \u001b[0m┃\n",
              "┡━━━━━━━━━━━━━━━━━━━━━━━━━━━━━━━━━╇━━━━━━━━━━━━━━━━━━━━━━━━╇━━━━━━━━━━━━━━━┩\n",
              "│ time_distributed                │ (\u001b[38;5;45mNone\u001b[0m, \u001b[38;5;45mNone\u001b[0m, \u001b[38;5;34m74\u001b[0m)       │             \u001b[38;5;34m0\u001b[0m │\n",
              "│ (\u001b[38;5;33mTimeDistributed\u001b[0m)               │                        │               │\n",
              "├─────────────────────────────────┼────────────────────────┼───────────────┤\n",
              "│ simple_rnn (\u001b[38;5;33mSimpleRNN\u001b[0m)          │ (\u001b[38;5;45mNone\u001b[0m, \u001b[38;5;45mNone\u001b[0m, \u001b[38;5;34m200\u001b[0m)      │        \u001b[38;5;34m55,000\u001b[0m │\n",
              "├─────────────────────────────────┼────────────────────────┼───────────────┤\n",
              "│ dense (\u001b[38;5;33mDense\u001b[0m)                   │ (\u001b[38;5;45mNone\u001b[0m, \u001b[38;5;45mNone\u001b[0m, \u001b[38;5;34m74\u001b[0m)       │        \u001b[38;5;34m14,874\u001b[0m │\n",
              "└─────────────────────────────────┴────────────────────────┴───────────────┘\n"
            ],
            "text/html": [
              "<pre style=\"white-space:pre;overflow-x:auto;line-height:normal;font-family:Menlo,'DejaVu Sans Mono',consolas,'Courier New',monospace\">┏━━━━━━━━━━━━━━━━━━━━━━━━━━━━━━━━━┳━━━━━━━━━━━━━━━━━━━━━━━━┳━━━━━━━━━━━━━━━┓\n",
              "┃<span style=\"font-weight: bold\"> Layer (type)                    </span>┃<span style=\"font-weight: bold\"> Output Shape           </span>┃<span style=\"font-weight: bold\">       Param # </span>┃\n",
              "┡━━━━━━━━━━━━━━━━━━━━━━━━━━━━━━━━━╇━━━━━━━━━━━━━━━━━━━━━━━━╇━━━━━━━━━━━━━━━┩\n",
              "│ time_distributed                │ (<span style=\"color: #00d7ff; text-decoration-color: #00d7ff\">None</span>, <span style=\"color: #00d7ff; text-decoration-color: #00d7ff\">None</span>, <span style=\"color: #00af00; text-decoration-color: #00af00\">74</span>)       │             <span style=\"color: #00af00; text-decoration-color: #00af00\">0</span> │\n",
              "│ (<span style=\"color: #0087ff; text-decoration-color: #0087ff\">TimeDistributed</span>)               │                        │               │\n",
              "├─────────────────────────────────┼────────────────────────┼───────────────┤\n",
              "│ simple_rnn (<span style=\"color: #0087ff; text-decoration-color: #0087ff\">SimpleRNN</span>)          │ (<span style=\"color: #00d7ff; text-decoration-color: #00d7ff\">None</span>, <span style=\"color: #00d7ff; text-decoration-color: #00d7ff\">None</span>, <span style=\"color: #00af00; text-decoration-color: #00af00\">200</span>)      │        <span style=\"color: #00af00; text-decoration-color: #00af00\">55,000</span> │\n",
              "├─────────────────────────────────┼────────────────────────┼───────────────┤\n",
              "│ dense (<span style=\"color: #0087ff; text-decoration-color: #0087ff\">Dense</span>)                   │ (<span style=\"color: #00d7ff; text-decoration-color: #00d7ff\">None</span>, <span style=\"color: #00d7ff; text-decoration-color: #00d7ff\">None</span>, <span style=\"color: #00af00; text-decoration-color: #00af00\">74</span>)       │        <span style=\"color: #00af00; text-decoration-color: #00af00\">14,874</span> │\n",
              "└─────────────────────────────────┴────────────────────────┴───────────────┘\n",
              "</pre>\n"
            ]
          },
          "metadata": {}
        },
        {
          "output_type": "display_data",
          "data": {
            "text/plain": [
              "\u001b[1m Total params: \u001b[0m\u001b[38;5;34m69,874\u001b[0m (272.95 KB)\n"
            ],
            "text/html": [
              "<pre style=\"white-space:pre;overflow-x:auto;line-height:normal;font-family:Menlo,'DejaVu Sans Mono',consolas,'Courier New',monospace\"><span style=\"font-weight: bold\"> Total params: </span><span style=\"color: #00af00; text-decoration-color: #00af00\">69,874</span> (272.95 KB)\n",
              "</pre>\n"
            ]
          },
          "metadata": {}
        },
        {
          "output_type": "display_data",
          "data": {
            "text/plain": [
              "\u001b[1m Trainable params: \u001b[0m\u001b[38;5;34m69,874\u001b[0m (272.95 KB)\n"
            ],
            "text/html": [
              "<pre style=\"white-space:pre;overflow-x:auto;line-height:normal;font-family:Menlo,'DejaVu Sans Mono',consolas,'Courier New',monospace\"><span style=\"font-weight: bold\"> Trainable params: </span><span style=\"color: #00af00; text-decoration-color: #00af00\">69,874</span> (272.95 KB)\n",
              "</pre>\n"
            ]
          },
          "metadata": {}
        },
        {
          "output_type": "display_data",
          "data": {
            "text/plain": [
              "\u001b[1m Non-trainable params: \u001b[0m\u001b[38;5;34m0\u001b[0m (0.00 B)\n"
            ],
            "text/html": [
              "<pre style=\"white-space:pre;overflow-x:auto;line-height:normal;font-family:Menlo,'DejaVu Sans Mono',consolas,'Courier New',monospace\"><span style=\"font-weight: bold\"> Non-trainable params: </span><span style=\"color: #00af00; text-decoration-color: #00af00\">0</span> (0.00 B)\n",
              "</pre>\n"
            ]
          },
          "metadata": {}
        }
      ],
      "source": [
        "model = Sequential()\n",
        "\n",
        "model.add(TimeDistributed(CategoryEncoding(num_tokens=vocab_size, output_mode = \"one_hot\"),input_shape=(None,1)))\n",
        "model.add(SimpleRNN(200, return_sequences=True, dropout=0.1, recurrent_dropout=0.1 ))\n",
        "model.add(Dense(vocab_size, activation='softmax'))\n",
        "model.compile(loss='sparse_categorical_crossentropy', optimizer='rmsprop')\n",
        "\n",
        "model.summary()"
      ]
    },
    {
      "cell_type": "markdown",
      "metadata": {
        "id": "GmJWNyxQwfCE"
      },
      "source": [
        "\n",
        "### Definir el modelo"
      ]
    },
    {
      "cell_type": "markdown",
      "metadata": {
        "id": "YWK3z85sQfUe"
      },
      "source": [
        "Dado que por el momento no hay implementaciones adecuadas de la perplejidad que puedan operar en tiempo de entrenamiento, armaremos un Callback *ad-hoc* que la calcule en cada epoch.\n",
        "\n",
        "**Nota**: un Callback es una rutina gatillada por algún evento, son muy útiles para relevar datos en diferentes momentos del desarrollo del modelo. En este caso queremos hacer un cálculo cada vez que termina una epoch de entrenamiento."
      ]
    },
    {
      "cell_type": "code",
      "execution_count": 26,
      "metadata": {
        "id": "zUHX3r5JD-MG"
      },
      "outputs": [],
      "source": [
        "class PplCallback(keras.callbacks.Callback):\n",
        "\n",
        "    '''\n",
        "    Este callback es una solución ad-hoc para calcular al final de cada epoch de\n",
        "    entrenamiento la métrica de Perplejidad sobre un conjunto de datos de validación.\n",
        "    La perplejidad es una métrica cuantitativa para evaluar la calidad de la generación de secuencias.\n",
        "    Además implementa la finalización del entrenamiento (Early Stopping)\n",
        "    si la perplejidad no mejora después de `patience` epochs.\n",
        "    '''\n",
        "\n",
        "    def __init__(self, val_data, history_ppl,patience=5):\n",
        "      # El callback lo inicializamos con secuencias de validación sobre las cuales\n",
        "      # mediremos la perplejidad\n",
        "      self.val_data = val_data\n",
        "\n",
        "      self.target = []\n",
        "      self.padded = []\n",
        "\n",
        "      count = 0\n",
        "      self.info = []\n",
        "      self.min_score = np.inf\n",
        "      self.patience_counter = 0\n",
        "      self.patience = patience\n",
        "\n",
        "      # nos movemos en todas las secuencias de los datos de validación\n",
        "      for seq in self.val_data:\n",
        "\n",
        "        len_seq = len(seq)\n",
        "        # armamos todas las subsecuencias\n",
        "        subseq = [seq[:i] for i in range(1,len_seq)]\n",
        "        self.target.extend([seq[i] for i in range(1,len_seq)])\n",
        "\n",
        "        if len(subseq)!=0:\n",
        "\n",
        "          self.padded.append(pad_sequences(subseq, maxlen=max_context_size, padding='pre'))\n",
        "\n",
        "          self.info.append((count,count+len_seq))\n",
        "          count += len_seq\n",
        "\n",
        "      self.padded = np.vstack(self.padded)\n",
        "\n",
        "\n",
        "    def on_epoch_end(self, epoch, logs=None):\n",
        "\n",
        "        # en `scores` iremos guardando la perplejidad de cada secuencia\n",
        "        scores = []\n",
        "\n",
        "        predictions = self.model.predict(self.padded,verbose=0)\n",
        "\n",
        "        # para cada secuencia de validación\n",
        "        for start,end in self.info:\n",
        "\n",
        "          # en `probs` iremos guardando las probabilidades de los términos target\n",
        "          probs = [predictions[idx_seq,-1,idx_vocab] for idx_seq, idx_vocab in zip(range(start,end),self.target[start:end])]\n",
        "\n",
        "          # calculamos la perplejidad por medio de logaritmos\n",
        "          scores.append(np.exp(-np.sum(np.log(probs))/(end-start)))\n",
        "\n",
        "        # promediamos todos los scores e imprimimos el valor promedio\n",
        "        current_score = np.mean(scores)\n",
        "        history_ppl.append(current_score)\n",
        "        print(f'\\n mean perplexity: {current_score} \\n')\n",
        "\n",
        "        # chequeamos si tenemos que detener el entrenamiento\n",
        "        if current_score < self.min_score:\n",
        "          self.min_score = current_score\n",
        "          self.model.save(\"my_model.keras\")\n",
        "          print(\"Saved new model!\")\n",
        "          self.patience_counter = 0\n",
        "        else:\n",
        "          self.patience_counter += 1\n",
        "          if self.patience_counter == self.patience:\n",
        "            print(\"Stopping training...\")\n",
        "            self.model.stop_training = True\n"
      ]
    },
    {
      "cell_type": "markdown",
      "metadata": {
        "id": "8HBZIwR0gruA"
      },
      "source": [
        "### Entrenamiento"
      ]
    },
    {
      "cell_type": "code",
      "execution_count": 27,
      "metadata": {
        "id": "oQq1PHDkxDvN",
        "colab": {
          "base_uri": "https://localhost:8080/"
        },
        "outputId": "d600a037-5960-4c09-b103-93c431b996d4"
      },
      "outputs": [
        {
          "output_type": "stream",
          "name": "stdout",
          "text": [
            "Epoch 1/20\n",
            "\u001b[1m1490/1490\u001b[0m \u001b[32m━━━━━━━━━━━━━━━━━━━━\u001b[0m\u001b[37m\u001b[0m \u001b[1m0s\u001b[0m 16ms/step - loss: 2.4281\n",
            " mean perplexity: 6.449904861608387 \n",
            "\n",
            "Saved new model!\n",
            "\u001b[1m1490/1490\u001b[0m \u001b[32m━━━━━━━━━━━━━━━━━━━━\u001b[0m\u001b[37m\u001b[0m \u001b[1m61s\u001b[0m 31ms/step - loss: 2.4279\n",
            "Epoch 2/20\n",
            "\u001b[1m1488/1490\u001b[0m \u001b[32m━━━━━━━━━━━━━━━━━━━\u001b[0m\u001b[37m━\u001b[0m \u001b[1m0s\u001b[0m 14ms/step - loss: 1.9431\n",
            " mean perplexity: 5.592413952000333 \n",
            "\n",
            "Saved new model!\n",
            "\u001b[1m1490/1490\u001b[0m \u001b[32m━━━━━━━━━━━━━━━━━━━━\u001b[0m\u001b[37m\u001b[0m \u001b[1m73s\u001b[0m 28ms/step - loss: 1.9430\n",
            "Epoch 3/20\n",
            "\u001b[1m1490/1490\u001b[0m \u001b[32m━━━━━━━━━━━━━━━━━━━━\u001b[0m\u001b[37m\u001b[0m \u001b[1m0s\u001b[0m 15ms/step - loss: 1.8375\n",
            " mean perplexity: 5.2780942125908 \n",
            "\n",
            "Saved new model!\n",
            "\u001b[1m1490/1490\u001b[0m \u001b[32m━━━━━━━━━━━━━━━━━━━━\u001b[0m\u001b[37m\u001b[0m \u001b[1m82s\u001b[0m 28ms/step - loss: 1.8375\n",
            "Epoch 4/20\n",
            "\u001b[1m1490/1490\u001b[0m \u001b[32m━━━━━━━━━━━━━━━━━━━━\u001b[0m\u001b[37m\u001b[0m \u001b[1m0s\u001b[0m 14ms/step - loss: 1.7899\n",
            " mean perplexity: 5.189983245320795 \n",
            "\n",
            "Saved new model!\n",
            "\u001b[1m1490/1490\u001b[0m \u001b[32m━━━━━━━━━━━━━━━━━━━━\u001b[0m\u001b[37m\u001b[0m \u001b[1m74s\u001b[0m 23ms/step - loss: 1.7899\n",
            "Epoch 5/20\n",
            "\u001b[1m1490/1490\u001b[0m \u001b[32m━━━━━━━━━━━━━━━━━━━━\u001b[0m\u001b[37m\u001b[0m \u001b[1m0s\u001b[0m 15ms/step - loss: 1.7616\n",
            " mean perplexity: 5.196370145720893 \n",
            "\n",
            "\u001b[1m1490/1490\u001b[0m \u001b[32m━━━━━━━━━━━━━━━━━━━━\u001b[0m\u001b[37m\u001b[0m \u001b[1m42s\u001b[0m 24ms/step - loss: 1.7616\n",
            "Epoch 6/20\n",
            "\u001b[1m1488/1490\u001b[0m \u001b[32m━━━━━━━━━━━━━━━━━━━\u001b[0m\u001b[37m━\u001b[0m \u001b[1m0s\u001b[0m 15ms/step - loss: 1.7432\n",
            " mean perplexity: 5.158058338820652 \n",
            "\n",
            "Saved new model!\n",
            "\u001b[1m1490/1490\u001b[0m \u001b[32m━━━━━━━━━━━━━━━━━━━━\u001b[0m\u001b[37m\u001b[0m \u001b[1m41s\u001b[0m 24ms/step - loss: 1.7432\n",
            "Epoch 7/20\n",
            "\u001b[1m1488/1490\u001b[0m \u001b[32m━━━━━━━━━━━━━━━━━━━\u001b[0m\u001b[37m━\u001b[0m \u001b[1m0s\u001b[0m 15ms/step - loss: 1.7287\n",
            " mean perplexity: 5.094072597286712 \n",
            "\n",
            "Saved new model!\n",
            "\u001b[1m1490/1490\u001b[0m \u001b[32m━━━━━━━━━━━━━━━━━━━━\u001b[0m\u001b[37m\u001b[0m \u001b[1m36s\u001b[0m 24ms/step - loss: 1.7287\n",
            "Epoch 8/20\n",
            "\u001b[1m1488/1490\u001b[0m \u001b[32m━━━━━━━━━━━━━━━━━━━\u001b[0m\u001b[37m━\u001b[0m \u001b[1m0s\u001b[0m 15ms/step - loss: 1.7183\n",
            " mean perplexity: 4.9893631426643985 \n",
            "\n",
            "Saved new model!\n",
            "\u001b[1m1490/1490\u001b[0m \u001b[32m━━━━━━━━━━━━━━━━━━━━\u001b[0m\u001b[37m\u001b[0m \u001b[1m41s\u001b[0m 24ms/step - loss: 1.7183\n",
            "Epoch 9/20\n",
            "\u001b[1m1487/1490\u001b[0m \u001b[32m━━━━━━━━━━━━━━━━━━━\u001b[0m\u001b[37m━\u001b[0m \u001b[1m0s\u001b[0m 15ms/step - loss: 1.7099\n",
            " mean perplexity: 5.011870174611349 \n",
            "\n",
            "\u001b[1m1490/1490\u001b[0m \u001b[32m━━━━━━━━━━━━━━━━━━━━\u001b[0m\u001b[37m\u001b[0m \u001b[1m48s\u001b[0m 29ms/step - loss: 1.7099\n",
            "Epoch 10/20\n",
            "\u001b[1m1489/1490\u001b[0m \u001b[32m━━━━━━━━━━━━━━━━━━━\u001b[0m\u001b[37m━\u001b[0m \u001b[1m0s\u001b[0m 15ms/step - loss: 1.7032\n",
            " mean perplexity: 4.969021481360304 \n",
            "\n",
            "Saved new model!\n",
            "\u001b[1m1490/1490\u001b[0m \u001b[32m━━━━━━━━━━━━━━━━━━━━\u001b[0m\u001b[37m\u001b[0m \u001b[1m82s\u001b[0m 29ms/step - loss: 1.7032\n",
            "Epoch 11/20\n",
            "\u001b[1m1488/1490\u001b[0m \u001b[32m━━━━━━━━━━━━━━━━━━━\u001b[0m\u001b[37m━\u001b[0m \u001b[1m0s\u001b[0m 15ms/step - loss: 1.6992\n",
            " mean perplexity: 4.933853895743312 \n",
            "\n",
            "Saved new model!\n",
            "\u001b[1m1490/1490\u001b[0m \u001b[32m━━━━━━━━━━━━━━━━━━━━\u001b[0m\u001b[37m\u001b[0m \u001b[1m43s\u001b[0m 29ms/step - loss: 1.6992\n",
            "Epoch 12/20\n",
            "\u001b[1m1488/1490\u001b[0m \u001b[32m━━━━━━━━━━━━━━━━━━━\u001b[0m\u001b[37m━\u001b[0m \u001b[1m0s\u001b[0m 15ms/step - loss: 1.6936\n",
            " mean perplexity: 4.872446338712321 \n",
            "\n",
            "Saved new model!\n",
            "\u001b[1m1490/1490\u001b[0m \u001b[32m━━━━━━━━━━━━━━━━━━━━\u001b[0m\u001b[37m\u001b[0m \u001b[1m82s\u001b[0m 29ms/step - loss: 1.6936\n",
            "Epoch 13/20\n",
            "\u001b[1m1490/1490\u001b[0m \u001b[32m━━━━━━━━━━━━━━━━━━━━\u001b[0m\u001b[37m\u001b[0m \u001b[1m0s\u001b[0m 15ms/step - loss: 1.6896\n",
            " mean perplexity: 4.825878213932164 \n",
            "\n",
            "Saved new model!\n",
            "\u001b[1m1490/1490\u001b[0m \u001b[32m━━━━━━━━━━━━━━━━━━━━\u001b[0m\u001b[37m\u001b[0m \u001b[1m75s\u001b[0m 24ms/step - loss: 1.6896\n",
            "Epoch 14/20\n",
            "\u001b[1m1490/1490\u001b[0m \u001b[32m━━━━━━━━━━━━━━━━━━━━\u001b[0m\u001b[37m\u001b[0m \u001b[1m0s\u001b[0m 15ms/step - loss: 1.6863\n",
            " mean perplexity: 4.91095402285951 \n",
            "\n",
            "\u001b[1m1490/1490\u001b[0m \u001b[32m━━━━━━━━━━━━━━━━━━━━\u001b[0m\u001b[37m\u001b[0m \u001b[1m43s\u001b[0m 29ms/step - loss: 1.6863\n",
            "Epoch 15/20\n",
            "\u001b[1m1487/1490\u001b[0m \u001b[32m━━━━━━━━━━━━━━━━━━━\u001b[0m\u001b[37m━\u001b[0m \u001b[1m0s\u001b[0m 15ms/step - loss: 1.6844\n",
            " mean perplexity: 4.903618022163897 \n",
            "\n",
            "\u001b[1m1490/1490\u001b[0m \u001b[32m━━━━━━━━━━━━━━━━━━━━\u001b[0m\u001b[37m\u001b[0m \u001b[1m43s\u001b[0m 29ms/step - loss: 1.6844\n",
            "Epoch 16/20\n",
            "\u001b[1m1487/1490\u001b[0m \u001b[32m━━━━━━━━━━━━━━━━━━━\u001b[0m\u001b[37m━\u001b[0m \u001b[1m0s\u001b[0m 15ms/step - loss: 1.6807\n",
            " mean perplexity: 4.8636511920187715 \n",
            "\n",
            "\u001b[1m1490/1490\u001b[0m \u001b[32m━━━━━━━━━━━━━━━━━━━━\u001b[0m\u001b[37m\u001b[0m \u001b[1m43s\u001b[0m 29ms/step - loss: 1.6807\n",
            "Epoch 17/20\n",
            "\u001b[1m1489/1490\u001b[0m \u001b[32m━━━━━━━━━━━━━━━━━━━\u001b[0m\u001b[37m━\u001b[0m \u001b[1m0s\u001b[0m 15ms/step - loss: 1.6792\n",
            " mean perplexity: 4.8427448176659675 \n",
            "\n",
            "\u001b[1m1490/1490\u001b[0m \u001b[32m━━━━━━━━━━━━━━━━━━━━\u001b[0m\u001b[37m\u001b[0m \u001b[1m82s\u001b[0m 29ms/step - loss: 1.6792\n",
            "Epoch 18/20\n",
            "\u001b[1m1489/1490\u001b[0m \u001b[32m━━━━━━━━━━━━━━━━━━━\u001b[0m\u001b[37m━\u001b[0m \u001b[1m0s\u001b[0m 15ms/step - loss: 1.6768\n",
            " mean perplexity: 4.911020594750536 \n",
            "\n",
            "Stopping training...\n",
            "\u001b[1m1490/1490\u001b[0m \u001b[32m━━━━━━━━━━━━━━━━━━━━\u001b[0m\u001b[37m\u001b[0m \u001b[1m75s\u001b[0m 24ms/step - loss: 1.6768\n"
          ]
        }
      ],
      "source": [
        "# fiteamos, nótese el agregado del callback con su inicialización. El batch_size lo podemos seleccionar a mano\n",
        "# en general, lo mejor es escoger el batch más grande posible que minimice el tiempo de cada época.\n",
        "# En la variable `history_ppl` se guardarán los valores de perplejidad para cada época.\n",
        "history_ppl = []\n",
        "hist = model.fit(X, y, epochs=20, callbacks=[PplCallback(tokenized_sentences_val,history_ppl)], batch_size=256)"
      ]
    },
    {
      "cell_type": "code",
      "execution_count": 28,
      "metadata": {
        "id": "K30JHB3Dv-mx",
        "colab": {
          "base_uri": "https://localhost:8080/",
          "height": 430
        },
        "outputId": "13359176-4efd-4688-a138-e922f28e045f"
      },
      "outputs": [
        {
          "output_type": "display_data",
          "data": {
            "text/plain": [
              "<Figure size 640x480 with 1 Axes>"
            ],
            "image/png": "[encoded data removed]"
          },
          "metadata": {}
        }
      ],
      "source": [
        "import matplotlib.pyplot as plt\n",
        "import seaborn as sns\n",
        "\n",
        "# Entrenamiento\n",
        "epoch_count = range(1, len(history_ppl) + 1)\n",
        "sns.lineplot(x=epoch_count,  y=history_ppl)\n",
        "plt.show()"
      ]
    },
    {
      "cell_type": "code",
      "execution_count": 29,
      "metadata": {
        "id": "Rhy5hZN38qfO"
      },
      "outputs": [],
      "source": [
        "# Cargamos el mejor modelo guardado del entrenamiento para hacer inferencia\n",
        "model = keras.models.load_model('my_model.keras')"
      ]
    },
    {
      "cell_type": "markdown",
      "metadata": {
        "id": "KN6Fg_BsxJe6"
      },
      "source": [
        "\n",
        "### Predicción del próximo caracter"
      ]
    },
    {
      "cell_type": "markdown",
      "source": [
        "> **Conclusión**: En un escenario 1 se entrenó solamente con 10 epochs, y la predicción del próximo carácter era errático. Sin embargo al entrenarlo con 20 epochs, fue más preciso en predecir un carácter correcto de acuerdo al texto."
      ],
      "metadata": {
        "id": "_A2ub2fwLTn9"
      }
    },
    {
      "cell_type": "code",
      "execution_count": 30,
      "metadata": {
        "id": "IBvKHFPmzpy2"
      },
      "outputs": [],
      "source": [
        "# Se puede usar gradio para probar el modelo\n",
        "# Gradio es una herramienta muy útil para crear interfaces para ensayar modelos\n",
        "# https://gradio.app/\n",
        "\n",
        "!pip install -q gradio"
      ]
    },
    {
      "cell_type": "code",
      "execution_count": 39,
      "metadata": {
        "id": "HNyBykvhzs7-",
        "colab": {
          "base_uri": "https://localhost:8080/",
          "height": 715
        },
        "outputId": "bf10a69b-8423-4262-ed8e-3618b21f8f21"
      },
      "outputs": [
        {
          "output_type": "stream",
          "name": "stdout",
          "text": [
            "It looks like you are running Gradio on a hosted a Jupyter notebook. For the Gradio app to work, sharing must be enabled. Automatically setting `share=True` (you can turn this off by setting `share=False` in `launch()` explicitly).\n",
            "\n",
            "Colab notebook detected. This cell will run indefinitely so that you can see errors and logs. To turn off, set debug=False in launch().\n",
            "* Running on public URL: https://66f5a6af29d475109b.gradio.live\n",
            "\n",
            "This share link expires in 1 week. For free permanent hosting and GPU upgrades, run `gradio deploy` from the terminal in the working directory to deploy to Hugging Face Spaces (https://huggingface.co/spaces)\n"
          ]
        },
        {
          "output_type": "display_data",
          "data": {
            "text/plain": [
              "<IPython.core.display.HTML object>"
            ],
            "text/html": [
              "<div><iframe src=\"https://66f5a6af29d475109b.gradio.live\" width=\"100%\" height=\"500\" allow=\"autoplay; camera; microphone; clipboard-read; clipboard-write;\" frameborder=\"0\" allowfullscreen></iframe></div>"
            ]
          },
          "metadata": {}
        },
        {
          "output_type": "stream",
          "name": "stdout",
          "text": [
            "\u001b[1m1/1\u001b[0m \u001b[32m━━━━━━━━━━━━━━━━━━━━\u001b[0m\u001b[37m\u001b[0m \u001b[1m0s\u001b[0m 52ms/step\n",
            "\u001b[1m1/1\u001b[0m \u001b[32m━━━━━━━━━━━━━━━━━━━━\u001b[0m\u001b[37m\u001b[0m \u001b[1m0s\u001b[0m 33ms/step\n",
            "Keyboard interruption in main thread... closing server.\n",
            "Killing tunnel 127.0.0.1:7860 <> https://66f5a6af29d475109b.gradio.live\n"
          ]
        },
        {
          "output_type": "execute_result",
          "data": {
            "text/plain": []
          },
          "metadata": {},
          "execution_count": 39
        }
      ],
      "source": [
        "import gradio as gr\n",
        "\n",
        "def model_response(human_text):\n",
        "\n",
        "    # Encodeamos\n",
        "    encoded = [char2idx[ch] for ch in human_text.lower() ]\n",
        "    # Si tienen distinto largo\n",
        "    encoded = pad_sequences([encoded], maxlen=max_context_size, padding='pre')\n",
        "\n",
        "    # Predicción softmax\n",
        "    y_hat = np.argmax(model.predict(encoded)[0,-1,:])\n",
        "\n",
        "\n",
        "    # Debemos buscar en el vocabulario el caracter\n",
        "    # que corresopnde al indice (y_hat) predicho por le modelo\n",
        "    out_word = ''\n",
        "    out_word = idx2char[y_hat]\n",
        "\n",
        "    # Agrego la palabra a la frase predicha\n",
        "    return human_text + out_word\n",
        "\n",
        "iface = gr.Interface(\n",
        "    fn=model_response,\n",
        "    inputs=[\"textbox\"],\n",
        "    outputs=\"text\")\n",
        "\n",
        "iface.launch(debug=True)"
      ]
    },
    {
      "cell_type": "markdown",
      "metadata": {
        "id": "mCeMWWupxN1-"
      },
      "source": [
        "### Generación de secuencias"
      ]
    },
    {
      "cell_type": "code",
      "execution_count": 32,
      "metadata": {
        "id": "bwbS_pfhxvB3"
      },
      "outputs": [],
      "source": [
        "def generate_seq(model, seed_text, max_length, n_words):\n",
        "    \"\"\"\n",
        "        Exec model sequence prediction\n",
        "\n",
        "        Args:\n",
        "            model (keras): modelo entrenado\n",
        "            seed_text (string): texto de entrada (input_seq)\n",
        "            max_length (int): máxima longitud de la sequencia de entrada\n",
        "            n_words (int): números de caracteres a agregar a la sequencia de entrada\n",
        "        returns:\n",
        "            output_text (string): sentencia con las \"n_words\" agregadas\n",
        "    \"\"\"\n",
        "    output_text = seed_text\n",
        "\t# generate a fixed number of words\n",
        "    for _ in range(n_words):\n",
        "\t\t# Encodeamos\n",
        "        encoded = [char2idx[ch] for ch in output_text.lower() ]\n",
        "\t\t# Si tienen distinto largo\n",
        "        encoded = pad_sequences([encoded], maxlen=max_length, padding='pre')\n",
        "\n",
        "\t\t# Predicción softmax\n",
        "        y_hat = np.argmax(model.predict(encoded,verbose=0)[0,-1,:])\n",
        "\t\t# Vamos concatenando las predicciones\n",
        "        out_word = ''\n",
        "\n",
        "        out_word = idx2char[y_hat]\n",
        "\n",
        "\t\t# Agrego las palabras a la frase predicha\n",
        "        output_text += out_word\n",
        "    return output_text"
      ]
    },
    {
      "cell_type": "code",
      "execution_count": 41,
      "metadata": {
        "id": "JoFqRC5pxzqS",
        "colab": {
          "base_uri": "https://localhost:8080/",
          "height": 35
        },
        "outputId": "1dac648c-9044-4270-bdb8-8e732976c31c"
      },
      "outputs": [
        {
          "output_type": "execute_result",
          "data": {
            "text/plain": [
              "'las teorías de la ciencia demuestran en la cabeza de la cabeza de '"
            ],
            "application/vnd.google.colaboratory.intrinsic+json": {
              "type": "string"
            }
          },
          "metadata": {},
          "execution_count": 41
        }
      ],
      "source": [
        "input_text='las teorías de la ciencia demuestran'\n",
        "\n",
        "generate_seq(model, input_text, max_length=max_context_size, n_words=30)"
      ]
    },
    {
      "cell_type": "markdown",
      "source": [
        "> **Conclusión**: En el primer caso, con Greedy Search, se probaron distintas combinacion de palabras, y sin embargo devolvió repetidamente la secuencia \"en la cabeza de la cabeza de \". Confirmándose que con esta técnica puede ser repetitivo."
      ],
      "metadata": {
        "id": "ZdZtDYAwNM4c"
      }
    },
    {
      "cell_type": "markdown",
      "metadata": {
        "id": "drJ6xn5qW1Hl"
      },
      "source": [
        "###  Beam search y muestreo aleatorio"
      ]
    },
    {
      "cell_type": "code",
      "execution_count": 34,
      "metadata": {
        "id": "_vovn9XZW1Hl"
      },
      "outputs": [],
      "source": [
        "# funcionalidades para hacer encoding y decoding\n",
        "\n",
        "def encode(text,max_length=max_context_size):\n",
        "\n",
        "    encoded = [char2idx[ch] for ch in text]\n",
        "    encoded = pad_sequences([encoded], maxlen=max_length, padding='pre')\n",
        "\n",
        "    return encoded\n",
        "\n",
        "def decode(seq):\n",
        "    return ''.join([idx2char[ch] for ch in seq])"
      ]
    },
    {
      "cell_type": "code",
      "execution_count": 35,
      "metadata": {
        "id": "I_lZiQwkW1Hl"
      },
      "outputs": [],
      "source": [
        "from scipy.special import softmax\n",
        "\n",
        "# función que selecciona candidatos para el beam search\n",
        "def select_candidates(pred,num_beams,vocab_size,history_probs,history_tokens,temp,mode):\n",
        "\n",
        "  # colectar todas las probabilidades para la siguiente búsqueda\n",
        "  pred_large = []\n",
        "\n",
        "  for idx,pp in enumerate(pred):\n",
        "    pred_large.extend(np.log(pp+1E-10)+history_probs[idx])\n",
        "\n",
        "  pred_large = np.array(pred_large)\n",
        "\n",
        "  # criterio de selección\n",
        "  if mode == 'det':\n",
        "    idx_select = np.argsort(pred_large)[::-1][:num_beams] # beam search determinista\n",
        "  elif mode == 'sto':\n",
        "    idx_select = np.random.choice(np.arange(pred_large.shape[0]), num_beams, p=softmax(pred_large/temp)) # beam search con muestreo aleatorio\n",
        "  else:\n",
        "    raise ValueError(f'Wrong selection mode. {mode} was given. det and sto are supported.')\n",
        "\n",
        "  # traducir a índices de token en el vocabulario\n",
        "  new_history_tokens = np.concatenate((np.array(history_tokens)[idx_select//vocab_size],\n",
        "                        np.array([idx_select%vocab_size]).T),\n",
        "                      axis=1)\n",
        "\n",
        "  # devolver el producto de las probabilidades (log) y la secuencia de tokens seleccionados\n",
        "  return pred_large[idx_select.astype(int)], new_history_tokens.astype(int)\n",
        "\n",
        "\n",
        "def beam_search(model,num_beams,num_words,input,temp=1,mode='det'):\n",
        "\n",
        "    # first iteration\n",
        "\n",
        "    # encode\n",
        "    encoded = encode(input)\n",
        "\n",
        "    # first prediction\n",
        "    y_hat = model.predict(encoded,verbose=0)[0,-1,:]\n",
        "\n",
        "    # get vocabulary size\n",
        "    vocab_size = y_hat.shape[0]\n",
        "\n",
        "    # initialize history\n",
        "    history_probs = [0]*num_beams\n",
        "    history_tokens = [encoded[0]]*num_beams\n",
        "\n",
        "    # select num_beams candidates\n",
        "    history_probs, history_tokens = select_candidates([y_hat],\n",
        "                                        num_beams,\n",
        "                                        vocab_size,\n",
        "                                        history_probs,\n",
        "                                        history_tokens,\n",
        "                                        temp,\n",
        "                                        mode)\n",
        "\n",
        "    # beam search loop\n",
        "    for i in range(num_words-1):\n",
        "\n",
        "      preds = []\n",
        "\n",
        "      for hist in history_tokens:\n",
        "\n",
        "        # actualizar secuencia de tokens\n",
        "        input_update = np.array([hist[i+1:]]).copy()\n",
        "\n",
        "        # predicción\n",
        "        y_hat = model.predict(input_update,verbose=0)[0,-1,:]\n",
        "\n",
        "        preds.append(y_hat)\n",
        "\n",
        "      history_probs, history_tokens = select_candidates(preds,\n",
        "                                                        num_beams,\n",
        "                                                        vocab_size,\n",
        "                                                        history_probs,\n",
        "                                                        history_tokens,\n",
        "                                                        temp,\n",
        "                                                        mode)\n",
        "\n",
        "    return history_tokens[:,-(len(input)+num_words):]"
      ]
    },
    {
      "cell_type": "code",
      "source": [],
      "metadata": {
        "id": "sDuSA7-UQrNZ"
      },
      "execution_count": null,
      "outputs": []
    },
    {
      "cell_type": "markdown",
      "source": [
        "> **Conclusión**: al aumentar el `num_beans`, hace que el modelo explore más combinaciones, evitando así patrones repetitivos. Sin embargo al mantenerlo en un valor más bajo, daba como resultado generalmente la misma frase repetitiva como lo hace Greedy Search."
      ],
      "metadata": {
        "id": "_ny3Vt0pQ88e"
      }
    },
    {
      "cell_type": "code",
      "execution_count": 81,
      "metadata": {
        "id": "GeLqAoOYW1Hm"
      },
      "outputs": [],
      "source": [
        "# predicción con beam search\n",
        "salidas = beam_search(model,num_beams=25,num_words=20,input=\"conversaba con absoluta calma\")"
      ]
    },
    {
      "cell_type": "code",
      "execution_count": 82,
      "metadata": {
        "id": "P8HQoLhw-NYg",
        "colab": {
          "base_uri": "https://localhost:8080/"
        },
        "outputId": "21959162-1b8b-4642-e64a-ffea0815dd84"
      },
      "outputs": [
        {
          "output_type": "execute_result",
          "data": {
            "text/plain": [
              "array([49, 61, 18, 73, 54, 58,  1, 69, 32, 69, 48, 49, 61, 18, 48, 69, 32,\n",
              "        1, 61, 17,  6, 53, 69, 48, 49, 69, 17, 14, 69, 39, 48, 14,  3, 48,\n",
              "       53, 45, 61, 48, 18, 61, 48, 29, 69, 32, 45, 69, 14, 61,  1])"
            ]
          },
          "metadata": {},
          "execution_count": 82
        }
      ],
      "source": [
        "salidas[0]"
      ]
    },
    {
      "cell_type": "code",
      "source": [
        "# veamos las salidas\n",
        "decode(salidas[0])"
      ],
      "metadata": {
        "colab": {
          "base_uri": "https://localhost:8080/",
          "height": 35
        },
        "id": "k9utAvdUQGDk",
        "outputId": "e1470d64-ceff-4b01-8940-39516c43255f"
      },
      "execution_count": 83,
      "outputs": [
        {
          "output_type": "execute_result",
          "data": {
            "text/plain": [
              "'conversaba con absoluta calma. mi tío no habíamos'"
            ],
            "application/vnd.google.colaboratory.intrinsic+json": {
              "type": "string"
            }
          },
          "metadata": {},
          "execution_count": 83
        }
      ]
    },
    {
      "cell_type": "code",
      "source": [
        "# veamos las salidas\n",
        "decode(salidas[0])"
      ],
      "metadata": {
        "colab": {
          "base_uri": "https://localhost:8080/",
          "height": 35
        },
        "id": "PolbLitROfa2",
        "outputId": "3f8a7fbb-3b92-4076-c382-21aff1aa88f2"
      },
      "execution_count": 77,
      "outputs": [
        {
          "output_type": "execute_result",
          "data": {
            "text/plain": [
              "'el túnel, en vez de hundirse en el profesor que '"
            ],
            "application/vnd.google.colaboratory.intrinsic+json": {
              "type": "string"
            }
          },
          "metadata": {},
          "execution_count": 77
        }
      ]
    },
    {
      "cell_type": "code",
      "source": [
        "# veamos las salidas\n",
        "decode(salidas[0])"
      ],
      "metadata": {
        "colab": {
          "base_uri": "https://localhost:8080/",
          "height": 35
        },
        "id": "6JB06tzQOUAx",
        "outputId": "67d89ea1-bc56-4d5b-9cf3-c62f8c1a32cd"
      },
      "execution_count": 56,
      "outputs": [
        {
          "output_type": "execute_result",
          "data": {
            "text/plain": [
              "'muy pocas personas de las palabras de '"
            ],
            "application/vnd.google.colaboratory.intrinsic+json": {
              "type": "string"
            }
          },
          "metadata": {},
          "execution_count": 56
        }
      ]
    },
    {
      "cell_type": "code",
      "source": [
        "# veamos las salidas\n",
        "decode(salidas[0])"
      ],
      "metadata": {
        "colab": {
          "base_uri": "https://localhost:8080/",
          "height": 35
        },
        "id": "a6scRYu5OHhb",
        "outputId": "c6acd30c-70e7-4a76-e8c5-2ba7ee9d3e60"
      },
      "execution_count": 53,
      "outputs": [
        {
          "output_type": "execute_result",
          "data": {
            "text/plain": [
              "'ferrocarril y del buque con una especie del '"
            ],
            "application/vnd.google.colaboratory.intrinsic+json": {
              "type": "string"
            }
          },
          "metadata": {},
          "execution_count": 53
        }
      ]
    },
    {
      "cell_type": "code",
      "execution_count": 50,
      "metadata": {
        "id": "2S3_I3S1W1Hm",
        "colab": {
          "base_uri": "https://localhost:8080/",
          "height": 35
        },
        "outputId": "3e02d83d-8d67-43bb-89e2-29fd7f00df9d"
      },
      "outputs": [
        {
          "output_type": "execute_result",
          "data": {
            "text/plain": [
              "'conversaba con absoluta calma de las palabras de '"
            ],
            "application/vnd.google.colaboratory.intrinsic+json": {
              "type": "string"
            }
          },
          "metadata": {},
          "execution_count": 50
        }
      ],
      "source": [
        "# veamos las salidas\n",
        "decode(salidas[0])"
      ]
    },
    {
      "cell_type": "markdown",
      "source": [
        "\n",
        "\n",
        "---\n",
        "\n",
        "\n",
        "# Observaciones/Conclusiones\n",
        "\n",
        "> En el pre-procesamiento del texto, se normalizó el texto, eliminando caracteres innecesarios y saltos de línea.\n",
        "\n",
        "> Se entrenó el modelo y se evidenció una disminución progresiva de la perplejidad, lo cual indica la capacidad del modelo de capturar patrones en el texto.\n",
        "\n",
        "> En la \"predicción del próximo caracter\", se entrenó inicialmente solamente con 10 epochs, y la predicción era errática. Sin embargo al entrenarlo con 20 epochs, fue más preciso en predecir un carácter correcto de acuerdo al texto.\n",
        "\n",
        "> En la \"generación de secuencias\", con Greedy Search, se probaron distintas combinaciones de palabras, y sin embargo devolvió repetidamente la secuencia \"en la cabeza de la cabeza de \".\n",
        "\n",
        "> En la \"generación de secuencias\", con \"Beam Search\", al aumentar el num_beans, hace que el modelo explore más combinaciones, evitando así patrones repetitivos. Sin embargo al mantenerlo en un valor más bajo, daba como resultado generalmente la misma frase repetitiva.\n",
        "\n",
        "---"
      ],
      "metadata": {
        "id": "IvTJKXvDTDCd"
      }
    }
  ],
  "metadata": {
    "accelerator": "GPU",
    "colab": {
      "gpuType": "T4",
      "provenance": [],
      "toc_visible": true
    },
    "kernelspec": {
      "display_name": "Python 3",
      "name": "python3"
    },
    "language_info": {
      "name": "python"
    }
  },
  "nbformat": 4,
  "nbformat_minor": 0
}