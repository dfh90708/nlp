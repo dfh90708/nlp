{
  "cells": [
    {
      "cell_type": "markdown",
      "metadata": {
        "id": "sZd5yLnnHOK0"
      },
      "source": [
        "<img src=\"https://github.com/hernancontigiani/ceia_memorias_especializacion/raw/master/Figures/logoFIUBA.jpg\" width=\"500\" align=\"center\">\n",
        "\n",
        "\n",
        "# Procesamiento de lenguaje natural\n",
        "## Custom embedddings con Gensim\n",
        "\n",
        "# **Desafío 2**\n",
        "\n",
        "### Alumno **Daniel Fernando Herrera** (a1621)"
      ]
    },
    {
      "cell_type": "markdown",
      "metadata": {
        "id": "vA7nqkumo9z9"
      },
      "source": [
        "### Objetivo\n",
        "El objetivo es utilizar documentos / corpus para crear embeddings de palabras basado en ese contexto. Se utilizará canciones de bandas para generar los embeddings, es decir, que los vectores tendrán la forma en función de como esa banda haya utilizado las palabras en sus canciones."
      ]
    },
    {
      "cell_type": "code",
      "execution_count": 275,
      "metadata": {
        "id": "Sxls6MFpGTwC"
      },
      "outputs": [],
      "source": [
        "#!pip install gensim\n",
        "#!pip install keras\n",
        "# reiniciar la sesion"
      ]
    },
    {
      "cell_type": "code",
      "execution_count": 276,
      "metadata": {
        "id": "lFToQs5FK5uZ"
      },
      "outputs": [],
      "source": [
        "import pandas as pd\n",
        "import matplotlib.pyplot as plt\n",
        "import seaborn as sn\n",
        "import numpy as np\n",
        "\n",
        "import multiprocessing\n",
        "from gensim.models import Word2Vec"
      ]
    },
    {
      "cell_type": "markdown",
      "metadata": {
        "id": "g07zJxG7H9vG"
      },
      "source": [
        "### Datos\n",
        "Utilizaremos como dataset canciones de bandas de habla inglesa."
      ]
    },
    {
      "cell_type": "code",
      "execution_count": 277,
      "metadata": {
        "colab": {
          "base_uri": "https://localhost:8080/",
          "height": 300
        },
        "id": "ticoqYD1Z3I7",
        "outputId": "9fadc6ea-c74d-446f-95a4-bfea2d3815cd"
      },
      "outputs": [
        {
          "output_type": "stream",
          "name": "stderr",
          "text": [
            "<ipython-input-277-2c9b0d0c192f>:2: ParserWarning:\n",
            "\n",
            "Falling back to the 'python' engine because the 'c' engine does not support regex separators (separators > 1 char and different from '\\s+' are interpreted as regex); you can avoid this warning by specifying engine='python'.\n",
            "\n"
          ]
        },
        {
          "output_type": "execute_result",
          "data": {
            "text/plain": [
              "                                                   0\n",
              "0                                         Capítulo 1\n",
              "1  El domingo 24 de mayo de 1863, mi tío, el prof...\n",
              "2  Marta, su excelente criada, se preocupó sobrem...\n",
              "3  “Bueno” —pensé para mí—, “si mi tío viene con ...\n",
              "4  —¡Tan temprano y ya está aquí el señor Lidenbr..."
            ],
            "text/html": [
              "\n",
              "  <div id=\"df-afa93867-b26d-409a-9331-93e0dec08ad1\" class=\"colab-df-container\">\n",
              "    <div>\n",
              "<style scoped>\n",
              "    .dataframe tbody tr th:only-of-type {\n",
              "        vertical-align: middle;\n",
              "    }\n",
              "\n",
              "    .dataframe tbody tr th {\n",
              "        vertical-align: top;\n",
              "    }\n",
              "\n",
              "    .dataframe thead th {\n",
              "        text-align: right;\n",
              "    }\n",
              "</style>\n",
              "<table border=\"1\" class=\"dataframe\">\n",
              "  <thead>\n",
              "    <tr style=\"text-align: right;\">\n",
              "      <th></th>\n",
              "      <th>0</th>\n",
              "    </tr>\n",
              "  </thead>\n",
              "  <tbody>\n",
              "    <tr>\n",
              "      <th>0</th>\n",
              "      <td>Capítulo 1</td>\n",
              "    </tr>\n",
              "    <tr>\n",
              "      <th>1</th>\n",
              "      <td>El domingo 24 de mayo de 1863, mi tío, el prof...</td>\n",
              "    </tr>\n",
              "    <tr>\n",
              "      <th>2</th>\n",
              "      <td>Marta, su excelente criada, se preocupó sobrem...</td>\n",
              "    </tr>\n",
              "    <tr>\n",
              "      <th>3</th>\n",
              "      <td>“Bueno” —pensé para mí—, “si mi tío viene con ...</td>\n",
              "    </tr>\n",
              "    <tr>\n",
              "      <th>4</th>\n",
              "      <td>—¡Tan temprano y ya está aquí el señor Lidenbr...</td>\n",
              "    </tr>\n",
              "  </tbody>\n",
              "</table>\n",
              "</div>\n",
              "    <div class=\"colab-df-buttons\">\n",
              "\n",
              "  <div class=\"colab-df-container\">\n",
              "    <button class=\"colab-df-convert\" onclick=\"convertToInteractive('df-afa93867-b26d-409a-9331-93e0dec08ad1')\"\n",
              "            title=\"Convert this dataframe to an interactive table.\"\n",
              "            style=\"display:none;\">\n",
              "\n",
              "  <svg xmlns=\"http://www.w3.org/2000/svg\" height=\"24px\" viewBox=\"0 -960 960 960\">\n",
              "    <path d=\"M120-120v-720h720v720H120Zm60-500h600v-160H180v160Zm220 220h160v-160H400v160Zm0 220h160v-160H400v160ZM180-400h160v-160H180v160Zm440 0h160v-160H620v160ZM180-180h160v-160H180v160Zm440 0h160v-160H620v160Z\"/>\n",
              "  </svg>\n",
              "    </button>\n",
              "\n",
              "  <style>\n",
              "    .colab-df-container {\n",
              "      display:flex;\n",
              "      gap: 12px;\n",
              "    }\n",
              "\n",
              "    .colab-df-convert {\n",
              "      background-color: #E8F0FE;\n",
              "      border: none;\n",
              "      border-radius: 50%;\n",
              "      cursor: pointer;\n",
              "      display: none;\n",
              "      fill: #1967D2;\n",
              "      height: 32px;\n",
              "      padding: 0 0 0 0;\n",
              "      width: 32px;\n",
              "    }\n",
              "\n",
              "    .colab-df-convert:hover {\n",
              "      background-color: #E2EBFA;\n",
              "      box-shadow: 0px 1px 2px rgba(60, 64, 67, 0.3), 0px 1px 3px 1px rgba(60, 64, 67, 0.15);\n",
              "      fill: #174EA6;\n",
              "    }\n",
              "\n",
              "    .colab-df-buttons div {\n",
              "      margin-bottom: 4px;\n",
              "    }\n",
              "\n",
              "    [theme=dark] .colab-df-convert {\n",
              "      background-color: #3B4455;\n",
              "      fill: #D2E3FC;\n",
              "    }\n",
              "\n",
              "    [theme=dark] .colab-df-convert:hover {\n",
              "      background-color: #434B5C;\n",
              "      box-shadow: 0px 1px 3px 1px rgba(0, 0, 0, 0.15);\n",
              "      filter: drop-shadow(0px 1px 2px rgba(0, 0, 0, 0.3));\n",
              "      fill: #FFFFFF;\n",
              "    }\n",
              "  </style>\n",
              "\n",
              "    <script>\n",
              "      const buttonEl =\n",
              "        document.querySelector('#df-afa93867-b26d-409a-9331-93e0dec08ad1 button.colab-df-convert');\n",
              "      buttonEl.style.display =\n",
              "        google.colab.kernel.accessAllowed ? 'block' : 'none';\n",
              "\n",
              "      async function convertToInteractive(key) {\n",
              "        const element = document.querySelector('#df-afa93867-b26d-409a-9331-93e0dec08ad1');\n",
              "        const dataTable =\n",
              "          await google.colab.kernel.invokeFunction('convertToInteractive',\n",
              "                                                    [key], {});\n",
              "        if (!dataTable) return;\n",
              "\n",
              "        const docLinkHtml = 'Like what you see? Visit the ' +\n",
              "          '<a target=\"_blank\" href=https://colab.research.google.com/notebooks/data_table.ipynb>data table notebook</a>'\n",
              "          + ' to learn more about interactive tables.';\n",
              "        element.innerHTML = '';\n",
              "        dataTable['output_type'] = 'display_data';\n",
              "        await google.colab.output.renderOutput(dataTable, element);\n",
              "        const docLink = document.createElement('div');\n",
              "        docLink.innerHTML = docLinkHtml;\n",
              "        element.appendChild(docLink);\n",
              "      }\n",
              "    </script>\n",
              "  </div>\n",
              "\n",
              "\n",
              "    <div id=\"df-63827953-29aa-486f-9e85-d564e21f02c3\">\n",
              "      <button class=\"colab-df-quickchart\" onclick=\"quickchart('df-63827953-29aa-486f-9e85-d564e21f02c3')\"\n",
              "                title=\"Suggest charts\"\n",
              "                style=\"display:none;\">\n",
              "\n",
              "<svg xmlns=\"http://www.w3.org/2000/svg\" height=\"24px\"viewBox=\"0 0 24 24\"\n",
              "     width=\"24px\">\n",
              "    <g>\n",
              "        <path d=\"M19 3H5c-1.1 0-2 .9-2 2v14c0 1.1.9 2 2 2h14c1.1 0 2-.9 2-2V5c0-1.1-.9-2-2-2zM9 17H7v-7h2v7zm4 0h-2V7h2v10zm4 0h-2v-4h2v4z\"/>\n",
              "    </g>\n",
              "</svg>\n",
              "      </button>\n",
              "\n",
              "<style>\n",
              "  .colab-df-quickchart {\n",
              "      --bg-color: #E8F0FE;\n",
              "      --fill-color: #1967D2;\n",
              "      --hover-bg-color: #E2EBFA;\n",
              "      --hover-fill-color: #174EA6;\n",
              "      --disabled-fill-color: #AAA;\n",
              "      --disabled-bg-color: #DDD;\n",
              "  }\n",
              "\n",
              "  [theme=dark] .colab-df-quickchart {\n",
              "      --bg-color: #3B4455;\n",
              "      --fill-color: #D2E3FC;\n",
              "      --hover-bg-color: #434B5C;\n",
              "      --hover-fill-color: #FFFFFF;\n",
              "      --disabled-bg-color: #3B4455;\n",
              "      --disabled-fill-color: #666;\n",
              "  }\n",
              "\n",
              "  .colab-df-quickchart {\n",
              "    background-color: var(--bg-color);\n",
              "    border: none;\n",
              "    border-radius: 50%;\n",
              "    cursor: pointer;\n",
              "    display: none;\n",
              "    fill: var(--fill-color);\n",
              "    height: 32px;\n",
              "    padding: 0;\n",
              "    width: 32px;\n",
              "  }\n",
              "\n",
              "  .colab-df-quickchart:hover {\n",
              "    background-color: var(--hover-bg-color);\n",
              "    box-shadow: 0 1px 2px rgba(60, 64, 67, 0.3), 0 1px 3px 1px rgba(60, 64, 67, 0.15);\n",
              "    fill: var(--button-hover-fill-color);\n",
              "  }\n",
              "\n",
              "  .colab-df-quickchart-complete:disabled,\n",
              "  .colab-df-quickchart-complete:disabled:hover {\n",
              "    background-color: var(--disabled-bg-color);\n",
              "    fill: var(--disabled-fill-color);\n",
              "    box-shadow: none;\n",
              "  }\n",
              "\n",
              "  .colab-df-spinner {\n",
              "    border: 2px solid var(--fill-color);\n",
              "    border-color: transparent;\n",
              "    border-bottom-color: var(--fill-color);\n",
              "    animation:\n",
              "      spin 1s steps(1) infinite;\n",
              "  }\n",
              "\n",
              "  @keyframes spin {\n",
              "    0% {\n",
              "      border-color: transparent;\n",
              "      border-bottom-color: var(--fill-color);\n",
              "      border-left-color: var(--fill-color);\n",
              "    }\n",
              "    20% {\n",
              "      border-color: transparent;\n",
              "      border-left-color: var(--fill-color);\n",
              "      border-top-color: var(--fill-color);\n",
              "    }\n",
              "    30% {\n",
              "      border-color: transparent;\n",
              "      border-left-color: var(--fill-color);\n",
              "      border-top-color: var(--fill-color);\n",
              "      border-right-color: var(--fill-color);\n",
              "    }\n",
              "    40% {\n",
              "      border-color: transparent;\n",
              "      border-right-color: var(--fill-color);\n",
              "      border-top-color: var(--fill-color);\n",
              "    }\n",
              "    60% {\n",
              "      border-color: transparent;\n",
              "      border-right-color: var(--fill-color);\n",
              "    }\n",
              "    80% {\n",
              "      border-color: transparent;\n",
              "      border-right-color: var(--fill-color);\n",
              "      border-bottom-color: var(--fill-color);\n",
              "    }\n",
              "    90% {\n",
              "      border-color: transparent;\n",
              "      border-bottom-color: var(--fill-color);\n",
              "    }\n",
              "  }\n",
              "</style>\n",
              "\n",
              "      <script>\n",
              "        async function quickchart(key) {\n",
              "          const quickchartButtonEl =\n",
              "            document.querySelector('#' + key + ' button');\n",
              "          quickchartButtonEl.disabled = true;  // To prevent multiple clicks.\n",
              "          quickchartButtonEl.classList.add('colab-df-spinner');\n",
              "          try {\n",
              "            const charts = await google.colab.kernel.invokeFunction(\n",
              "                'suggestCharts', [key], {});\n",
              "          } catch (error) {\n",
              "            console.error('Error during call to suggestCharts:', error);\n",
              "          }\n",
              "          quickchartButtonEl.classList.remove('colab-df-spinner');\n",
              "          quickchartButtonEl.classList.add('colab-df-quickchart-complete');\n",
              "        }\n",
              "        (() => {\n",
              "          let quickchartButtonEl =\n",
              "            document.querySelector('#df-63827953-29aa-486f-9e85-d564e21f02c3 button');\n",
              "          quickchartButtonEl.style.display =\n",
              "            google.colab.kernel.accessAllowed ? 'block' : 'none';\n",
              "        })();\n",
              "      </script>\n",
              "    </div>\n",
              "\n",
              "    </div>\n",
              "  </div>\n"
            ],
            "application/vnd.google.colaboratory.intrinsic+json": {
              "type": "dataframe",
              "variable_name": "df",
              "summary": "{\n  \"name\": \"df\",\n  \"rows\": 2311,\n  \"fields\": [\n    {\n      \"column\": 0,\n      \"properties\": {\n        \"dtype\": \"string\",\n        \"num_unique_values\": 2311,\n        \"samples\": [\n          \"\\u2014\\u00bfInquieto, dices? No.\",\n          \"\\u2014\\u00a1Bah! \\u00a1bah! \\u00a1Lo que es eso no me inquieta! Con que, manos a la obra, que no hay tiempo que perder. Me voy a la biblioteca. Tal vez se conserve en ella alg\\u00fan manuscrito de Saknussemm que me gustar\\u00eda consultar.\",\n          \"\\u2014\\u00a1Cuidado! \\u2014repet\\u00eda mi t\\u00edo.\"\n        ],\n        \"semantic_type\": \"\",\n        \"description\": \"\"\n      }\n    }\n  ]\n}"
            }
          },
          "metadata": {},
          "execution_count": 277
        }
      ],
      "source": [
        "# Armar el dataset utilizando salto de línea para separar las oraciones/docs\n",
        "df = pd.read_csv('/content/vieja_al_centro_de_la_tierra.txt', sep='/n', header=None)\n",
        "df.head()"
      ]
    },
    {
      "cell_type": "code",
      "execution_count": 278,
      "metadata": {
        "colab": {
          "base_uri": "https://localhost:8080/"
        },
        "id": "LEpKubK9XzXN",
        "outputId": "1c76e541-e450-4925-abe6-ead8f340d5f8"
      },
      "outputs": [
        {
          "output_type": "stream",
          "name": "stdout",
          "text": [
            "Cantidad de documentos: 2311\n"
          ]
        }
      ],
      "source": [
        "print(\"Cantidad de documentos:\", df.shape[0])"
      ]
    },
    {
      "cell_type": "markdown",
      "metadata": {
        "id": "ab94qaFlrA1G"
      },
      "source": [
        "### 1 - Preprocesamiento"
      ]
    },
    {
      "cell_type": "code",
      "execution_count": 279,
      "metadata": {
        "colab": {
          "base_uri": "https://localhost:8080/"
        },
        "id": "yqDg-gwOayiu",
        "outputId": "dcf58a08-7401-4b5d-b186-ed0aa8524443"
      },
      "outputs": [
        {
          "output_type": "stream",
          "name": "stderr",
          "text": [
            "[nltk_data] Downloading package stopwords to /root/nltk_data...\n",
            "[nltk_data]   Package stopwords is already up-to-date!\n"
          ]
        }
      ],
      "source": [
        "#from keras.preprocessing.text import text_to_word_sequence\n",
        "from tensorflow.keras.preprocessing.text import text_to_word_sequence\n",
        "\n",
        "import nltk\n",
        "nltk.download('stopwords')\n",
        "from nltk.corpus import stopwords\n",
        "\n",
        "stop_words = set(stopwords.words('spanish'))\n",
        "\n",
        "def limpiar_y_tokenizar(texto):\n",
        "    tokens = text_to_word_sequence(texto)\n",
        "    return [w for w in tokens if w not in stop_words]\n",
        "\n",
        "sentence_tokens = []\n",
        "for _, row in df.iterrows():\n",
        "    sentence_tokens.append(limpiar_y_tokenizar(row[0]))\n"
      ]
    },
    {
      "cell_type": "code",
      "execution_count": 280,
      "metadata": {
        "colab": {
          "base_uri": "https://localhost:8080/"
        },
        "id": "cLQvkmV5a_oQ",
        "outputId": "e355ede5-ddb9-4e5b-dae8-475839c20f19"
      },
      "outputs": [
        {
          "output_type": "execute_result",
          "data": {
            "text/plain": [
              "[['capítulo', '1'],\n",
              " ['domingo',\n",
              "  '24',\n",
              "  'mayo',\n",
              "  '1863',\n",
              "  'tío',\n",
              "  'profesor',\n",
              "  'lidenbrock',\n",
              "  'entró',\n",
              "  'rápidamente',\n",
              "  'hogar',\n",
              "  'situado',\n",
              "  'número',\n",
              "  '19',\n",
              "  'könig‑strasse',\n",
              "  'calles',\n",
              "  'tradicionales',\n",
              "  'barrio',\n",
              "  'antiguo',\n",
              "  'hamburgo']]"
            ]
          },
          "metadata": {},
          "execution_count": 280
        }
      ],
      "source": [
        "# Demos un vistazo\n",
        "sentence_tokens[:2]"
      ]
    },
    {
      "cell_type": "code",
      "execution_count": 281,
      "metadata": {
        "id": "rIsmMWmjrDHd"
      },
      "outputs": [],
      "source": [
        "#from keras.preprocessing.text import text_to_word_sequence\n",
        "#from tensorflow.keras.preprocessing.text import text_to_word_sequence\n",
        "\n",
        "#sentence_tokens = []\n",
        "# Recorrer todas las filas y transformar las oraciones\n",
        "# en una secuencia de palabras (esto podría realizarse con NLTK o spaCy también)\n",
        "#for _, row in df[:None].iterrows():\n",
        "#    sentence_tokens.append(text_to_word_sequence(row[0]))"
      ]
    },
    {
      "cell_type": "code",
      "execution_count": 282,
      "metadata": {
        "id": "CHepi_DGrbhq"
      },
      "outputs": [],
      "source": [
        "# Demos un vistazo\n",
        "#sentence_tokens[:2]"
      ]
    },
    {
      "cell_type": "markdown",
      "metadata": {
        "id": "BaXV6nlHr5Aa"
      },
      "source": [
        "### 2 - Crear los vectores (word2vec)"
      ]
    },
    {
      "cell_type": "code",
      "execution_count": 283,
      "metadata": {
        "id": "OSb0v7h8r7hK"
      },
      "outputs": [],
      "source": [
        "from gensim.models.callbacks import CallbackAny2Vec\n",
        "# Durante el entrenamiento gensim por defecto no informa el \"loss\" en cada época\n",
        "# Sobrecargamos el callback para poder tener esta información\n",
        "class callback(CallbackAny2Vec):\n",
        "    \"\"\"\n",
        "    Callback to print loss after each epoch\n",
        "    \"\"\"\n",
        "    def __init__(self):\n",
        "        self.epoch = 0\n",
        "\n",
        "    def on_epoch_end(self, model):\n",
        "        loss = model.get_latest_training_loss()\n",
        "        if self.epoch == 0:\n",
        "            print('Loss after epoch {}: {}'.format(self.epoch, loss))\n",
        "        else:\n",
        "            print('Loss after epoch {}: {}'.format(self.epoch, loss- self.loss_previous_step))\n",
        "        self.epoch += 1\n",
        "        self.loss_previous_step = loss"
      ]
    },
    {
      "cell_type": "code",
      "execution_count": 284,
      "metadata": {
        "id": "EzYc3f2ydtYm"
      },
      "outputs": [],
      "source": [
        "# otros hiperparametros\n",
        "# Crearmos el modelo generador de vectores\n",
        "# En este caso utilizaremos la estructura modelo Skipgram\n",
        "w2v_model = Word2Vec(min_count=5,    #5 frecuencia mínima de palabra para incluirla en el vocabulario\n",
        "                     window=2,       #2 cant de palabras antes y desp de la predicha\n",
        "                     vector_size=300, #300 dimensionalidad de los vectores\n",
        "                     negative=20,    #20 cantidad de negative samples... 0 es no se usa\n",
        "                     workers=1,      #1 si tienen más cores pueden cambiar este valor\n",
        "                     sg=1)           #1 modelo 0:CBOW  1:skipgram"
      ]
    },
    {
      "cell_type": "code",
      "execution_count": 285,
      "metadata": {
        "id": "5lTt8wErsf17"
      },
      "outputs": [],
      "source": [
        "# Obtener el vocabulario con los tokens\n",
        "w2v_model.build_vocab(sentence_tokens)"
      ]
    },
    {
      "cell_type": "code",
      "execution_count": 286,
      "metadata": {
        "colab": {
          "base_uri": "https://localhost:8080/"
        },
        "id": "TNc9qt4os5AT",
        "outputId": "f037da1b-f734-4ea7-d1d7-9be83f161af5"
      },
      "outputs": [
        {
          "output_type": "stream",
          "name": "stdout",
          "text": [
            "Cantidad de docs en el corpus: 2311\n"
          ]
        }
      ],
      "source": [
        "# Cantidad de filas/docs encontradas en el corpus\n",
        "print(\"Cantidad de docs en el corpus:\", w2v_model.corpus_count)"
      ]
    },
    {
      "cell_type": "code",
      "execution_count": 287,
      "metadata": {
        "colab": {
          "base_uri": "https://localhost:8080/"
        },
        "id": "idw9cHF3tSMl",
        "outputId": "99c75b51-4710-461f-a7c8-9082287cfacc"
      },
      "outputs": [
        {
          "output_type": "stream",
          "name": "stdout",
          "text": [
            "Cantidad de words distintas en el corpus: 1590\n"
          ]
        }
      ],
      "source": [
        "# Cantidad de words encontradas en el corpus\n",
        "print(\"Cantidad de words distintas en el corpus:\", len(w2v_model.wv.index_to_key))"
      ]
    },
    {
      "cell_type": "markdown",
      "metadata": {
        "id": "fC9mZ8DPk-UC"
      },
      "source": [
        "### 3 - Entrenar embeddings"
      ]
    },
    {
      "cell_type": "code",
      "execution_count": 288,
      "metadata": {
        "colab": {
          "base_uri": "https://localhost:8080/"
        },
        "id": "QSp-x0PAsq56",
        "outputId": "b0c40e67-d4d9-4577-f542-b59040b4527e"
      },
      "outputs": [
        {
          "output_type": "stream",
          "name": "stdout",
          "text": [
            "Loss after epoch 0: 534459.1875\n",
            "Loss after epoch 1: 239922.4375\n",
            "Loss after epoch 2: 239333.25\n",
            "Loss after epoch 3: 208892.875\n",
            "Loss after epoch 4: 203620.5\n",
            "Loss after epoch 5: 201522.375\n",
            "Loss after epoch 6: 201740.0\n",
            "Loss after epoch 7: 201824.125\n",
            "Loss after epoch 8: 181502.0\n",
            "Loss after epoch 9: 170394.5\n",
            "Loss after epoch 10: 170315.0\n",
            "Loss after epoch 11: 169068.25\n",
            "Loss after epoch 12: 167957.0\n",
            "Loss after epoch 13: 167368.75\n",
            "Loss after epoch 14: 166110.75\n",
            "Loss after epoch 15: 164520.5\n",
            "Loss after epoch 16: 164335.0\n",
            "Loss after epoch 17: 163029.5\n",
            "Loss after epoch 18: 162011.5\n",
            "Loss after epoch 19: 159824.5\n",
            "Loss after epoch 20: 158947.5\n",
            "Loss after epoch 21: 152713.5\n",
            "Loss after epoch 22: 151270.0\n",
            "Loss after epoch 23: 151756.0\n",
            "Loss after epoch 24: 149936.5\n",
            "Loss after epoch 25: 149743.5\n",
            "Loss after epoch 26: 148718.5\n",
            "Loss after epoch 27: 148443.0\n",
            "Loss after epoch 28: 148415.5\n",
            "Loss after epoch 29: 147726.0\n"
          ]
        },
        {
          "output_type": "execute_result",
          "data": {
            "text/plain": [
              "(657129, 1134840)"
            ]
          },
          "metadata": {},
          "execution_count": 288
        }
      ],
      "source": [
        "# Entrenamos el modelo generador de vectores\n",
        "# Utilizamos nuestro callback\n",
        "w2v_model.train(sentence_tokens,\n",
        "                 total_examples=w2v_model.corpus_count,\n",
        "                 epochs=30,\n",
        "                 compute_loss = True,\n",
        "                 callbacks=[callback()]\n",
        "                 )"
      ]
    },
    {
      "cell_type": "markdown",
      "metadata": {
        "id": "ddT9NVuNlCAe"
      },
      "source": [
        "### 4 - Ensayar"
      ]
    },
    {
      "cell_type": "code",
      "execution_count": 289,
      "metadata": {
        "colab": {
          "base_uri": "https://localhost:8080/"
        },
        "id": "6cHN9xGLuPEm",
        "outputId": "4ba1bade-259b-4830-8b34-a70a78c17058"
      },
      "outputs": [
        {
          "output_type": "execute_result",
          "data": {
            "text/plain": [
              "[('mineral', 0.8710821866989136),\n",
              " ('sinuosidades', 0.7647475600242615),\n",
              " ('gases', 0.7615578174591064),\n",
              " ('interiores', 0.7610321640968323),\n",
              " ('hulla', 0.7534886002540588),\n",
              " ('aumento', 0.7461691498756409),\n",
              " ('grietas', 0.7346855998039246),\n",
              " ('límite', 0.728818416595459),\n",
              " ('suponer', 0.728774905204773),\n",
              " ('base', 0.7269209027290344)]"
            ]
          },
          "metadata": {},
          "execution_count": 289
        }
      ],
      "source": [
        "# Palabras que MÁS se relacionan con...:\n",
        "w2v_model.wv.most_similar(positive=[\"terrestre\"], topn=10)"
      ]
    },
    {
      "cell_type": "code",
      "execution_count": 290,
      "metadata": {
        "colab": {
          "base_uri": "https://localhost:8080/"
        },
        "id": "47HiU5gdkdMq",
        "outputId": "f7e84bde-f6b5-435f-ed11-2442b29c01b3"
      },
      "outputs": [
        {
          "output_type": "execute_result",
          "data": {
            "text/plain": [
              "[('tío', -0.1502103954553604),\n",
              " ('marcha', -0.16049982607364655),\n",
              " ('señor', -0.16068123281002045),\n",
              " ('mañana', -0.17053981125354767),\n",
              " ('cazador', -0.17226693034172058),\n",
              " ('cabeza', -0.17972882091999054),\n",
              " ('guía', -0.19161376357078552),\n",
              " ('fridriksson', -0.19311699271202087),\n",
              " ('—preguntó', -0.19668136537075043),\n",
              " ('—no', -0.19725878536701202)]"
            ]
          },
          "metadata": {},
          "execution_count": 290
        }
      ],
      "source": [
        "# Palabras que MENOS se relacionan con...:\n",
        "w2v_model.wv.most_similar(negative=[\"terrestre\"], topn=10)"
      ]
    },
    {
      "cell_type": "code",
      "execution_count": 291,
      "metadata": {
        "colab": {
          "base_uri": "https://localhost:8080/"
        },
        "id": "DT4Rvno2mD65",
        "outputId": "a10eb5e5-c459-49db-88b2-12823eff466a"
      },
      "outputs": [
        {
          "output_type": "execute_result",
          "data": {
            "text/plain": [
              "[('atracción', 0.7249952554702759),\n",
              " ('pozo', 0.7233765125274658),\n",
              " ('bóveda', 0.7227107882499695),\n",
              " ('existía', 0.7200817465782166),\n",
              " ('abierto', 0.7100129127502441),\n",
              " ('corriendo', 0.7063911557197571),\n",
              " ('sorprendente', 0.7040880918502808),\n",
              " ('dedo', 0.7040205597877502),\n",
              " ('saliente', 0.7024168372154236),\n",
              " ('trozos', 0.6967659592628479)]"
            ]
          },
          "metadata": {},
          "execution_count": 291
        }
      ],
      "source": [
        "# Palabras que MÁS se relacionan con...:\n",
        "w2v_model.wv.most_similar(positive=[\"roca\"], topn=10)"
      ]
    },
    {
      "cell_type": "code",
      "source": [
        "# Ensayar con una palabra que no está en el vocabulario:\n",
        "w2v_model.wv.most_similar(negative=[\"roca\"])"
      ],
      "metadata": {
        "colab": {
          "base_uri": "https://localhost:8080/"
        },
        "id": "IeCynj5TA1lx",
        "outputId": "2b172666-cd08-4928-af10-fee26d41a46f"
      },
      "execution_count": 292,
      "outputs": [
        {
          "output_type": "execute_result",
          "data": {
            "text/plain": [
              "[('—me', -0.09329775720834732),\n",
              " ('—le', -0.10894450545310974),\n",
              " ('mañana', -0.12993252277374268),\n",
              " ('siguiente', -0.13532446324825287),\n",
              " ('quiere', -0.13949473202228546),\n",
              " ('¿no', -0.1418188214302063),\n",
              " ('aquel', -0.1514982134103775),\n",
              " ('dijo', -0.15208400785923004),\n",
              " ('preciso', -0.1522463858127594),\n",
              " ('toda', -0.1555282026529312)]"
            ]
          },
          "metadata": {},
          "execution_count": 292
        }
      ]
    },
    {
      "cell_type": "code",
      "source": [
        "# Palabras que MÁS se relacionan con...:\n",
        "w2v_model.wv.most_similar(positive=[\"océano\"], topn=10)"
      ],
      "metadata": {
        "colab": {
          "base_uri": "https://localhost:8080/"
        },
        "id": "2tKAVloyCgbQ",
        "outputId": "0642d4f4-490d-4eb1-8a6c-505b7717bca6"
      },
      "execution_count": 293,
      "outputs": [
        {
          "output_type": "execute_result",
          "data": {
            "text/plain": [
              "[('extendía', 0.8936465978622437),\n",
              " ('perderse', 0.8889947533607483),\n",
              " ('extiende', 0.8862214088439941),\n",
              " ('escarpadas', 0.8834241628646851),\n",
              " ('pleno', 0.8718046545982361),\n",
              " ('lejanas', 0.8617182374000549),\n",
              " ('lago', 0.8612306118011475),\n",
              " ('llanura', 0.8576656579971313),\n",
              " ('arena', 0.8550131320953369),\n",
              " ('sombras', 0.8548770546913147)]"
            ]
          },
          "metadata": {},
          "execution_count": 293
        }
      ]
    },
    {
      "cell_type": "code",
      "source": [
        "# Ensayar con una palabra que no está en el vocabulario:\n",
        "w2v_model.wv.most_similar(negative=[\"océano\"])"
      ],
      "metadata": {
        "colab": {
          "base_uri": "https://localhost:8080/"
        },
        "id": "lsx1elkzChug",
        "outputId": "90ddd093-e339-4011-bee8-7a7abb28733a"
      },
      "execution_count": 294,
      "outputs": [
        {
          "output_type": "execute_result",
          "data": {
            "text/plain": [
              "[('tío—', -0.21445253491401672),\n",
              " ('señor', -0.21939441561698914),\n",
              " ('saknussemm', -0.23258419334888458),\n",
              " ('—¿qué', -0.23936977982521057),\n",
              " ('—me', -0.2497674822807312),\n",
              " ('hora', -0.2719522714614868),\n",
              " ('palabra', -0.2807517647743225),\n",
              " ('profesor—', -0.28218546509742737),\n",
              " ('—sí', -0.2872677743434906),\n",
              " ('—prosiguió', -0.2886728048324585)]"
            ]
          },
          "metadata": {},
          "execution_count": 294
        }
      ]
    },
    {
      "cell_type": "code",
      "execution_count": 295,
      "metadata": {
        "colab": {
          "base_uri": "https://localhost:8080/"
        },
        "id": "XPLDPgzBmQXt",
        "outputId": "ad76467d-c4af-4e49-dca3-37a8a8d5f041"
      },
      "outputs": [
        {
          "output_type": "execute_result",
          "data": {
            "text/plain": [
              "[('ciudades', 0.8842154145240784),\n",
              " ('subterráneos', 0.8790903687477112),\n",
              " ('volcánica', 0.8721573352813721),\n",
              " ('verdes', 0.8671268224716187),\n",
              " ('despojos', 0.8658183813095093),\n",
              " ('encuentran', 0.8641661405563354),\n",
              " ('blanca', 0.8639747500419617),\n",
              " ('fuegos', 0.8638566732406616),\n",
              " ('naturales', 0.8610393404960632),\n",
              " ('límites', 0.8604951500892639)]"
            ]
          },
          "metadata": {},
          "execution_count": 295
        }
      ],
      "source": [
        "# Palabras que MÁS se relacionan con...:\n",
        "w2v_model.wv.most_similar(positive=[\"volcanes\"], topn=10)"
      ]
    },
    {
      "cell_type": "code",
      "execution_count": 296,
      "metadata": {
        "colab": {
          "base_uri": "https://localhost:8080/"
        },
        "id": "L_UvHPMMklOr",
        "outputId": "a62654a5-bba9-4efc-e046-eb78848cae60"
      },
      "outputs": [
        {
          "output_type": "execute_result",
          "data": {
            "text/plain": [
              "[('hora', -0.2583235800266266),\n",
              " ('hans', -0.3182982802391052),\n",
              " ('cabo', -0.3457009494304657),\n",
              " ('siguiente', -0.34586507081985474),\n",
              " ('momento', -0.3466376066207886),\n",
              " ('marcha', -0.3485548198223114),\n",
              " ('balsa', -0.35376596450805664),\n",
              " ('aún', -0.3585411310195923),\n",
              " ('horas', -0.3638328015804291),\n",
              " ('mañana', -0.3652820885181427)]"
            ]
          },
          "metadata": {},
          "execution_count": 296
        }
      ],
      "source": [
        "# Ensayar con una palabra que no está en el vocabulario:\n",
        "w2v_model.wv.most_similar(negative=[\"volcanes\"])"
      ]
    },
    {
      "cell_type": "code",
      "execution_count": 297,
      "metadata": {
        "colab": {
          "base_uri": "https://localhost:8080/"
        },
        "id": "-fEVJZ2KuqUk",
        "outputId": "0f04498f-5a4c-4b70-d75a-fe826ffdc0a3"
      },
      "outputs": [
        {
          "output_type": "stream",
          "name": "stdout",
          "text": [
            "[-0.11609855  0.41066664  0.12490825 -0.04590978 -0.00272756 -0.36417156\n",
            " -0.2121443  -0.06115238  0.1620348  -0.19342074 -0.04239405  0.10849806\n",
            "  0.20152351 -0.09648021 -0.3744369  -0.14430569 -0.0236267  -0.01139157\n",
            "  0.11207287  0.16732539 -0.19072188  0.24431227 -0.23543732  0.37626895\n",
            "  0.46231255  0.08035368 -0.08366849  0.00573804  0.12255966 -0.01669434\n",
            " -0.25496033 -0.28685826  0.04598035 -0.16678777 -0.18414898  0.15583426\n",
            " -0.24265192 -0.40619272 -0.34751582 -0.06433387  0.1475789  -0.12580456\n",
            " -0.14835085 -0.06192503  0.15771057 -0.17873818 -0.00117047  0.43849513\n",
            " -0.2684275  -0.17496102  0.10811751 -0.19901453 -0.3125706  -0.00507751\n",
            "  0.13223077 -0.02490409 -0.05138683 -0.05787152  0.02397081  0.26663625\n",
            " -0.16062982  0.02616561 -0.3599248   0.61994404  0.14273891 -0.04592519\n",
            " -0.18233116  0.01260114 -0.16452734  0.21656048 -0.09538787 -0.33547622\n",
            "  0.18845129 -0.2249483   0.08292132  0.23494852 -0.38659692  0.05359088\n",
            "  0.19062133  0.06405937 -0.3054527  -0.12051918 -0.02961022  0.26655707\n",
            "  0.06085313  0.27990705 -0.14760226  0.01012969  0.32416213 -0.29545292\n",
            " -0.13999824  0.07691603  0.09782154 -0.0916072  -0.28906137 -0.21813811\n",
            "  0.44302285 -0.0015283  -0.2675554   0.22301355  0.01578284  0.00648269\n",
            "  0.3916586  -0.34257814  0.38918385  0.20061289  0.09739779  0.5649248\n",
            " -0.31799084  0.16102871  0.02152804  0.13807105 -0.12653647 -0.13713191\n",
            " -0.28870174  0.08083417 -0.30591926 -0.08844213  0.5324415  -0.3077158\n",
            "  0.3516596   0.4746301  -0.15204872 -0.3026698  -0.13714439  0.3677173\n",
            " -0.28178728  0.12648614 -0.3409714  -0.42072445  0.0842098   0.19564214\n",
            " -0.23476486  0.07078654  0.47691378 -0.10562427  0.11002272 -0.15312389\n",
            " -0.10610613  0.16898195 -0.16022317 -0.05014971  0.20900898  0.24337377\n",
            "  0.12039421 -0.08724045  0.02594486 -0.1633864  -0.03894845 -0.21480215\n",
            "  0.23437646 -0.51750857 -0.00080775  0.07876717 -0.19935746  0.1040675\n",
            " -0.16060269 -0.3213256   0.20100982  0.18321276  0.3050871   0.05295534\n",
            " -0.47118357  0.20761982  0.07514673  0.37558618 -0.1052947   0.2758387\n",
            "  0.23025809  0.2975356  -0.49727514  0.01599559  0.04254004  0.3465576\n",
            " -0.07509305  0.03055897  0.24582966 -0.22645567  0.08461985 -0.20745166\n",
            " -0.08126558 -0.15922695 -0.23086418 -0.05420225  0.10919187  0.31965694\n",
            "  0.19215481  0.18866584 -0.11291067  0.14099185 -0.27275833 -0.32708943\n",
            "  0.00328115 -0.0979047  -0.03063856 -0.579838   -0.1803934  -0.19756754\n",
            " -0.12307414  0.22119984 -0.16733702  0.11778475 -0.1202722  -0.2381518\n",
            "  0.01542164 -0.05973817 -0.14723709  0.12220815  0.08219259  0.08761526\n",
            " -0.19181573 -0.43925852 -0.27440482 -0.08132888  0.12911195 -0.24926981\n",
            "  0.24231687 -0.5018548   0.04715072 -0.24252564  0.3838161  -0.03056137\n",
            "  0.16628596 -0.02951101 -0.10263131  0.15167421 -0.10864897 -0.48863372\n",
            " -0.21751921  0.22559227 -0.01925635 -0.35125926 -0.01425403  0.21665855\n",
            "  0.10676723 -0.11305811 -0.3422782  -0.03141811  0.1628473  -0.38830987\n",
            "  0.25459424  0.10073243 -0.5176811   0.39412868 -0.04737905 -0.22379442\n",
            "  0.10209133  0.14373845  0.17352454  0.25419587  0.08760193  0.49587128\n",
            " -0.0084726   0.02696093 -0.16846535 -0.56830794  0.46004975  0.29037818\n",
            "  0.03844421 -0.26576304 -0.2345247  -0.0416576  -0.11558743 -0.29706702\n",
            " -0.14763989  0.29709893 -0.30528092 -0.0416735   0.09851     0.12937382\n",
            "  0.01363492  0.12726165 -0.1448323  -0.10987753  0.48405567 -0.11295374\n",
            "  0.10753087 -0.18271399 -0.1745792  -0.5174731   0.23693109 -0.12604234\n",
            "  0.23817788  0.12428261  0.25747395 -0.08583489 -0.16000886  0.01914811\n",
            " -0.1363201   0.11340272 -0.29236212 -0.09585503  0.11689804  0.16166541\n",
            "  0.1810601   0.1452675   0.06880315  0.12495942 -0.15775603  0.14946635]\n"
          ]
        }
      ],
      "source": [
        "# el método `get_vector` permite obtener los vectores:\n",
        "vector_terrestre = w2v_model.wv.get_vector(\"terrestre\")\n",
        "print(vector_terrestre)"
      ]
    },
    {
      "cell_type": "code",
      "execution_count": 298,
      "metadata": {
        "colab": {
          "base_uri": "https://localhost:8080/"
        },
        "id": "98dfmZTJuqUk",
        "outputId": "9ccdd756-b60a-4b34-906e-132365b655a2"
      },
      "outputs": [
        {
          "output_type": "execute_result",
          "data": {
            "text/plain": [
              "[('terrestre', 0.9999999403953552),\n",
              " ('mineral', 0.8710821866989136),\n",
              " ('sinuosidades', 0.7647475600242615),\n",
              " ('gases', 0.7615578174591064),\n",
              " ('interiores', 0.7610321640968323),\n",
              " ('hulla', 0.7534886002540588),\n",
              " ('aumento', 0.7461691498756409),\n",
              " ('grietas', 0.7346856594085693),\n",
              " ('límite', 0.728818416595459),\n",
              " ('suponer', 0.7287749648094177)]"
            ]
          },
          "metadata": {},
          "execution_count": 298
        }
      ],
      "source": [
        "# el método `most_similar` también permite comparar a partir de vectores\n",
        "w2v_model.wv.most_similar(vector_terrestre)"
      ]
    },
    {
      "cell_type": "code",
      "execution_count": 299,
      "metadata": {
        "colab": {
          "base_uri": "https://localhost:8080/"
        },
        "id": "-p7f_Us_uqUk",
        "outputId": "1aacdd5a-2f63-492d-9344-0cc78d0bf3ec"
      },
      "outputs": [
        {
          "output_type": "execute_result",
          "data": {
            "text/plain": [
              "[('mineral', 0.8710821866989136),\n",
              " ('sinuosidades', 0.7647475600242615),\n",
              " ('gases', 0.7615578174591064),\n",
              " ('interiores', 0.7610321640968323),\n",
              " ('hulla', 0.7534886002540588),\n",
              " ('aumento', 0.7461691498756409),\n",
              " ('grietas', 0.7346855998039246),\n",
              " ('límite', 0.728818416595459),\n",
              " ('suponer', 0.728774905204773),\n",
              " ('base', 0.7269209027290344)]"
            ]
          },
          "metadata": {},
          "execution_count": 299
        }
      ],
      "source": [
        "# Palabras que MÁS se relacionan con...:\n",
        "w2v_model.wv.most_similar(positive=[\"terrestre\"], topn=10)"
      ]
    },
    {
      "cell_type": "markdown",
      "metadata": {
        "id": "_g8UVWe6lFmh"
      },
      "source": [
        "### 5 - Visualizar agrupación de vectores"
      ]
    },
    {
      "cell_type": "code",
      "execution_count": 300,
      "metadata": {
        "id": "pDxEVXAivjr9"
      },
      "outputs": [],
      "source": [
        "from sklearn.decomposition import IncrementalPCA\n",
        "from sklearn.manifold import TSNE\n",
        "import numpy as np\n",
        "\n",
        "def reduce_dimensions(model, num_dimensions = 2 ):\n",
        "\n",
        "    vectors = np.asarray(model.wv.vectors)\n",
        "    labels = np.asarray(model.wv.index_to_key)\n",
        "\n",
        "    tsne = TSNE(n_components=num_dimensions, random_state=0)\n",
        "    vectors = tsne.fit_transform(vectors)\n",
        "\n",
        "    return vectors, labels"
      ]
    },
    {
      "cell_type": "code",
      "execution_count": 301,
      "metadata": {
        "colab": {
          "base_uri": "https://localhost:8080/",
          "height": 542
        },
        "id": "NCCXtDpcugmd",
        "outputId": "549e7f2c-bc6e-4587-89c5-32f6948ea465"
      },
      "outputs": [
        {
          "output_type": "display_data",
          "data": {
            "text/html": [
              "<html>\n",
              "<head><meta charset=\"utf-8\" /></head>\n",
              "<body>\n",
              "    <div>            <script src=\"https://cdnjs.cloudflare.com/ajax/libs/mathjax/2.7.5/MathJax.js?config=TeX-AMS-MML_SVG\"></script><script type=\"text/javascript\">if (window.MathJax && window.MathJax.Hub && window.MathJax.Hub.Config) {window.MathJax.Hub.Config({SVG: {font: \"STIX-Web\"}});}</script>                <script type=\"text/javascript\">window.PlotlyConfig = {MathJaxConfig: 'local'};</script>\n",
              "        <script charset=\"utf-8\" src=\"https://cdn.plot.ly/plotly-2.35.2.min.js\"></script>                <div id=\"8bcf0e84-57c4-4231-a599-d942c65382dc\" class=\"plotly-graph-div\" style=\"height:525px; width:100%;\"></div>            <script type=\"text/javascript\">                                    window.PLOTLYENV=window.PLOTLYENV || {};                                    if (document.getElementById(\"8bcf0e84-57c4-4231-a599-d942c65382dc\")) {                    Plotly.newPlot(                        \"8bcf0e84-57c4-4231-a599-d942c65382dc\",                        [{\"hovertemplate\":\"x=%{x}\\u003cbr\\u003ey=%{y}\\u003cbr\\u003etext=%{text}\\u003cextra\\u003e\\u003c\\u002fextra\\u003e\",\"legendgroup\":\"\",\"marker\":{\"color\":\"#636efa\",\"symbol\":\"circle\"},\"mode\":\"markers+text\",\"name\":\"\",\"orientation\":\"v\",\"showlegend\":false,\"text\":[\"tío\",\"si\",\"profesor\",\"hans\",\"después\",\"vez\",\"aquel\",\"dos\",\"tan\",\"mar\",\"bien\",\"agua\",\"pues\",\"entonces\",\"pies\",\"tierra\",\"usted\",\"tiempo\",\"ser\",\"hacia\",\"menos\",\"gran\",\"fin\",\"preciso\",\"superficie\",\"mismo\",\"momento\",\"balsa\",\"toda\",\"embargo\",\"hombre\",\"duda\",\"medio\",\"aún\",\"bajo\",\"ojos\",\"camino\",\"palabras\",\"axel\",\"sólo\",\"cabeza\",\"tres\",\"lidenbrock\",\"todas\",\"leguas\",\"aquella\",\"aquí\",\"señor\",\"efecto\",\"así\",\"podía\",\"cada\",\"hora\",\"—sí\",\"día\",\"mano\",\"globo\",\"viaje\",\"hecho\",\"modo\",\"aire\",\"parte\",\"horas\",\"galería\",\"rocas\",\"noche\",\"luz\",\"ver\",\"alguna\",\"—me\",\"—no\",\"sneffels\",\"—dijo\",\"¿qué\",\"tal\",\"mundo\",\"sido\",\"islandia\",\"parecía\",\"marcha\",\"días\",\"roca\",\"bastante\",\"granito\",\"veces\",\"—exclamé\",\"palabra\",\"ahora\",\"decir\",\"—¿qué\",\"saknussemm\",\"tío—\",\"fondo\",\"capítulo\",\"algún\",\"mañana\",\"aquellas\",\"centro\",\"islandés\",\"calor\",\"nuevo\",\"cráter\",\"—exclamó\",\"nombre\",\"llegar\",\"puede\",\"manos\",\"suelo\",\"ningún\",\"iba\",\"media\",\"—respondió\",\"manera\",\"dijo\",\"hacer\",\"terrestre\",\"guía\",\"posible\",\"haber\",\"¿no\",\"diez\",\"través\",\"hizo\",\"especie\",\"voz\",\"seguida\",\"punto\",\"interior\",\"mil\",\"jamás\",\"suerte\",\"siempre\",\"vista\",\"imposible\",\"razón\",\"lejos\",\"dar\",\"—pero\",\"hijo\",\"casa\",\"parece\",\"cazador\",\"capas\",\"mas\",\"largo\",\"mayor\",\"idea\",\"debajo\",\"cuya\",\"olas\",\"solo\",\"labios\",\"pared\",\"viento\",\"pesar\",\"paso\",\"tarde\",\"isla\",\"velocidad\",\"grandes\",\"mientras\",\"lava\",\"enorme\",\"vi\",\"aquellos\",\"documento\",\"siguiente\",\"seis\",\"cabo\",\"temperatura\",\"allí\",\"debía\",\"semejante\",\"misma\",\"cuyo\",\"hallaba\",\"vamos\",\"aunque\",\"paredes\",\"¡qué\",\"cuatro\",\"casi\",\"cinco\",\"graüben\",\"cuales\",\"profundidad\",\"éste\",\"pasos\",\"océano\",\"corteza\",\"sabio\",\"—¿y\",\"todavía\",\"volcán\",\"silencio\",\"animales\",\"ruido\",\"pronto\",\"sino\",\"cierto\"],\"x\":[28.332357,16.087624,30.301743,-12.539571,-4.3004217,5.7408724,-6.5824504,-14.059567,13.003309,-27.395681,30.310625,-15.370787,26.408688,12.600983,-22.490322,-35.02095,33.742516,-0.27970168,9.437329,-24.69266,-10.35149,1.0149003,8.233839,5.160864,-34.154068,19.481304,7.470889,-12.428237,0.81963944,4.651766,22.385386,5.943007,-10.777608,7.278626,-27.734623,2.639489,27.288343,15.321274,38.786392,-0.0577431,-9.354627,-12.970571,31.821218,-33.527763,-17.590715,-7.864182,30.738176,33.026115,-0.7450369,10.849179,1.8490117,7.2908893,-18.49629,37.523415,-5.4608593,-13.164177,-35.05329,18.238668,19.120564,11.531372,-9.530753,-25.294518,-2.7794893,-16.505455,-28.737705,-0.948012,-29.443432,10.618762,8.153528,37.45861,38.417786,-29.825748,37.3765,34.138252,10.599701,-36.2476,17.149742,-13.50031,-29.943445,-2.770663,-12.727885,-25.244808,-1.5504622,-24.437159,-19.758793,34.21716,8.902358,29.660816,33.73161,38.5476,29.047993,38.835197,-29.48321,-18.521368,-6.108115,-5.853876,-29.888014,-35.115456,25.37441,-16.629469,-6.9785714,-28.417542,37.36245,13.969994,4.8149333,11.238687,17.061155,-27.974724,6.265421,-9.131632,-17.548061,37.289856,-7.2048903,40.348705,15.776335,-21.369436,33.506046,7.8195004,2.743613,35.667828,-13.350775,-23.108976,11.035528,-19.557219,14.576763,14.461587,-5.060869,-21.196625,-16.241915,13.169546,9.264995,9.061257,-10.830192,5.0269356,22.429705,15.022872,10.520227,35.45196,37.614834,25.80259,22.790474,29.432648,-25.95092,9.396409,-16.237688,-4.180221,32.140728,-30.680513,-16.750597,-22.30799,10.363906,13.144264,-13.676466,-10.8638315,24.84794,-11.641329,-9.682794,-12.274202,-21.487185,-32.80259,13.652143,-25.316992,-24.967897,-11.118683,-32.215645,20.649609,-7.0207763,-12.177294,-0.48236597,-18.237024,-7.0306625,10.156116,29.268406,-8.591395,-28.847921,-6.683751,33.285103,-7.096843,-27.031605,14.709057,-14.852881,-15.4671755,-12.807142,25.518446,-17.48375,-21.717754,28.258196,-15.911036,-25.357447,-23.120125,22.26743,30.633461,6.2791305,-30.232727,2.2457213,-34.599995,-15.989914,16.40779,23.955114,29.91812],\"xaxis\":\"x\",\"y\":[-5.5815296,0.35074463,-15.194267,4.0398016,21.67829,25.062555,-15.283713,21.366396,-10.701623,-5.568661,11.158454,-22.835915,12.552805,-4.8965044,21.714067,-0.9333553,7.5433626,15.883459,-12.946903,6.492438,21.574492,-26.506945,18.49765,12.888432,-3.8941998,15.746997,-0.4116879,6.8488917,-1.6047323,-19.567486,-13.255353,-21.32078,-18.830177,12.689823,-3.373958,16.397612,17.78641,6.021143,6.1173477,-19.956326,3.9196987,23.006065,-13.703977,-15.101848,24.362217,-7.474457,8.399861,-12.326889,1.8043531,-3.9571345,-21.260923,25.457033,27.047869,0.8012939,27.39529,3.3376157,-0.8517757,4.2059236,-15.229534,1.5620918,-24.857939,12.266715,27.571938,3.7287166,-11.615089,22.524305,-20.3944,-0.097460024,-20.330412,5.615183,2.8612225,6.136339,-2.949638,4.8559384,24.822943,-7.8795576,-13.712779,14.41355,-8.062801,25.989418,20.510427,1.061663,16.268559,-19.834923,14.839847,6.0006247,23.01184,6.429819,8.806457,1.682724,16.548895,0.29856223,3.3194668,18.442896,-22.894361,27.259628,-12.5090065,-3.355939,-15.688912,-19.683615,28.85226,4.467587,-1.8334299,-13.146803,-2.461141,-14.067693,-10.107632,-7.990007,-21.05164,-3.7351487,28.067848,-2.7435155,-16.768536,4.459763,12.539168,-22.142698,-7.6275544,-17.507318,12.534493,7.8403654,26.850836,-20.501806,19.454615,-6.9253306,4.767703,18.97817,18.63076,-17.903236,21.863916,11.065714,-0.75120497,-14.622111,1.6139388,9.295557,2.3382454,-17.4833,-19.057804,6.3918405,4.3272305,-8.163707,14.110042,-4.3242245,-17.665226,10.44521,5.659437,-19.465866,2.5518432,-3.3691053,-16.229929,-1.4152955,15.293468,22.202696,5.3546176,14.674447,-13.403082,-3.4720094,25.560915,-16.34043,13.187402,-14.019306,-3.4033852,-13.209885,15.5029335,3.2372687,-10.262015,-14.683933,27.096992,26.558575,21.17985,-21.90344,9.641075,-14.681686,12.501641,-7.149754,-7.602034,-4.1445374,11.653467,4.7904058,-16.119802,-9.687954,22.717215,6.2756915,24.914827,-6.274017,15.34575,21.213774,-5.5873647,16.746122,-5.4496956,-22.455286,-11.349475,2.177017,14.285668,4.8178086,22.33222,-12.34633,-3.5170386,-16.376177,21.300169,-1.7877598],\"yaxis\":\"y\",\"type\":\"scatter\"}],                        {\"template\":{\"data\":{\"histogram2dcontour\":[{\"type\":\"histogram2dcontour\",\"colorbar\":{\"outlinewidth\":0,\"ticks\":\"\"},\"colorscale\":[[0.0,\"#0d0887\"],[0.1111111111111111,\"#46039f\"],[0.2222222222222222,\"#7201a8\"],[0.3333333333333333,\"#9c179e\"],[0.4444444444444444,\"#bd3786\"],[0.5555555555555556,\"#d8576b\"],[0.6666666666666666,\"#ed7953\"],[0.7777777777777778,\"#fb9f3a\"],[0.8888888888888888,\"#fdca26\"],[1.0,\"#f0f921\"]]}],\"choropleth\":[{\"type\":\"choropleth\",\"colorbar\":{\"outlinewidth\":0,\"ticks\":\"\"}}],\"histogram2d\":[{\"type\":\"histogram2d\",\"colorbar\":{\"outlinewidth\":0,\"ticks\":\"\"},\"colorscale\":[[0.0,\"#0d0887\"],[0.1111111111111111,\"#46039f\"],[0.2222222222222222,\"#7201a8\"],[0.3333333333333333,\"#9c179e\"],[0.4444444444444444,\"#bd3786\"],[0.5555555555555556,\"#d8576b\"],[0.6666666666666666,\"#ed7953\"],[0.7777777777777778,\"#fb9f3a\"],[0.8888888888888888,\"#fdca26\"],[1.0,\"#f0f921\"]]}],\"heatmap\":[{\"type\":\"heatmap\",\"colorbar\":{\"outlinewidth\":0,\"ticks\":\"\"},\"colorscale\":[[0.0,\"#0d0887\"],[0.1111111111111111,\"#46039f\"],[0.2222222222222222,\"#7201a8\"],[0.3333333333333333,\"#9c179e\"],[0.4444444444444444,\"#bd3786\"],[0.5555555555555556,\"#d8576b\"],[0.6666666666666666,\"#ed7953\"],[0.7777777777777778,\"#fb9f3a\"],[0.8888888888888888,\"#fdca26\"],[1.0,\"#f0f921\"]]}],\"heatmapgl\":[{\"type\":\"heatmapgl\",\"colorbar\":{\"outlinewidth\":0,\"ticks\":\"\"},\"colorscale\":[[0.0,\"#0d0887\"],[0.1111111111111111,\"#46039f\"],[0.2222222222222222,\"#7201a8\"],[0.3333333333333333,\"#9c179e\"],[0.4444444444444444,\"#bd3786\"],[0.5555555555555556,\"#d8576b\"],[0.6666666666666666,\"#ed7953\"],[0.7777777777777778,\"#fb9f3a\"],[0.8888888888888888,\"#fdca26\"],[1.0,\"#f0f921\"]]}],\"contourcarpet\":[{\"type\":\"contourcarpet\",\"colorbar\":{\"outlinewidth\":0,\"ticks\":\"\"}}],\"contour\":[{\"type\":\"contour\",\"colorbar\":{\"outlinewidth\":0,\"ticks\":\"\"},\"colorscale\":[[0.0,\"#0d0887\"],[0.1111111111111111,\"#46039f\"],[0.2222222222222222,\"#7201a8\"],[0.3333333333333333,\"#9c179e\"],[0.4444444444444444,\"#bd3786\"],[0.5555555555555556,\"#d8576b\"],[0.6666666666666666,\"#ed7953\"],[0.7777777777777778,\"#fb9f3a\"],[0.8888888888888888,\"#fdca26\"],[1.0,\"#f0f921\"]]}],\"surface\":[{\"type\":\"surface\",\"colorbar\":{\"outlinewidth\":0,\"ticks\":\"\"},\"colorscale\":[[0.0,\"#0d0887\"],[0.1111111111111111,\"#46039f\"],[0.2222222222222222,\"#7201a8\"],[0.3333333333333333,\"#9c179e\"],[0.4444444444444444,\"#bd3786\"],[0.5555555555555556,\"#d8576b\"],[0.6666666666666666,\"#ed7953\"],[0.7777777777777778,\"#fb9f3a\"],[0.8888888888888888,\"#fdca26\"],[1.0,\"#f0f921\"]]}],\"mesh3d\":[{\"type\":\"mesh3d\",\"colorbar\":{\"outlinewidth\":0,\"ticks\":\"\"}}],\"scatter\":[{\"fillpattern\":{\"fillmode\":\"overlay\",\"size\":10,\"solidity\":0.2},\"type\":\"scatter\"}],\"parcoords\":[{\"type\":\"parcoords\",\"line\":{\"colorbar\":{\"outlinewidth\":0,\"ticks\":\"\"}}}],\"scatterpolargl\":[{\"type\":\"scatterpolargl\",\"marker\":{\"colorbar\":{\"outlinewidth\":0,\"ticks\":\"\"}}}],\"bar\":[{\"error_x\":{\"color\":\"#2a3f5f\"},\"error_y\":{\"color\":\"#2a3f5f\"},\"marker\":{\"line\":{\"color\":\"#E5ECF6\",\"width\":0.5},\"pattern\":{\"fillmode\":\"overlay\",\"size\":10,\"solidity\":0.2}},\"type\":\"bar\"}],\"scattergeo\":[{\"type\":\"scattergeo\",\"marker\":{\"colorbar\":{\"outlinewidth\":0,\"ticks\":\"\"}}}],\"scatterpolar\":[{\"type\":\"scatterpolar\",\"marker\":{\"colorbar\":{\"outlinewidth\":0,\"ticks\":\"\"}}}],\"histogram\":[{\"marker\":{\"pattern\":{\"fillmode\":\"overlay\",\"size\":10,\"solidity\":0.2}},\"type\":\"histogram\"}],\"scattergl\":[{\"type\":\"scattergl\",\"marker\":{\"colorbar\":{\"outlinewidth\":0,\"ticks\":\"\"}}}],\"scatter3d\":[{\"type\":\"scatter3d\",\"line\":{\"colorbar\":{\"outlinewidth\":0,\"ticks\":\"\"}},\"marker\":{\"colorbar\":{\"outlinewidth\":0,\"ticks\":\"\"}}}],\"scattermapbox\":[{\"type\":\"scattermapbox\",\"marker\":{\"colorbar\":{\"outlinewidth\":0,\"ticks\":\"\"}}}],\"scatterternary\":[{\"type\":\"scatterternary\",\"marker\":{\"colorbar\":{\"outlinewidth\":0,\"ticks\":\"\"}}}],\"scattercarpet\":[{\"type\":\"scattercarpet\",\"marker\":{\"colorbar\":{\"outlinewidth\":0,\"ticks\":\"\"}}}],\"carpet\":[{\"aaxis\":{\"endlinecolor\":\"#2a3f5f\",\"gridcolor\":\"white\",\"linecolor\":\"white\",\"minorgridcolor\":\"white\",\"startlinecolor\":\"#2a3f5f\"},\"baxis\":{\"endlinecolor\":\"#2a3f5f\",\"gridcolor\":\"white\",\"linecolor\":\"white\",\"minorgridcolor\":\"white\",\"startlinecolor\":\"#2a3f5f\"},\"type\":\"carpet\"}],\"table\":[{\"cells\":{\"fill\":{\"color\":\"#EBF0F8\"},\"line\":{\"color\":\"white\"}},\"header\":{\"fill\":{\"color\":\"#C8D4E3\"},\"line\":{\"color\":\"white\"}},\"type\":\"table\"}],\"barpolar\":[{\"marker\":{\"line\":{\"color\":\"#E5ECF6\",\"width\":0.5},\"pattern\":{\"fillmode\":\"overlay\",\"size\":10,\"solidity\":0.2}},\"type\":\"barpolar\"}],\"pie\":[{\"automargin\":true,\"type\":\"pie\"}]},\"layout\":{\"autotypenumbers\":\"strict\",\"colorway\":[\"#636efa\",\"#EF553B\",\"#00cc96\",\"#ab63fa\",\"#FFA15A\",\"#19d3f3\",\"#FF6692\",\"#B6E880\",\"#FF97FF\",\"#FECB52\"],\"font\":{\"color\":\"#2a3f5f\"},\"hovermode\":\"closest\",\"hoverlabel\":{\"align\":\"left\"},\"paper_bgcolor\":\"white\",\"plot_bgcolor\":\"#E5ECF6\",\"polar\":{\"bgcolor\":\"#E5ECF6\",\"angularaxis\":{\"gridcolor\":\"white\",\"linecolor\":\"white\",\"ticks\":\"\"},\"radialaxis\":{\"gridcolor\":\"white\",\"linecolor\":\"white\",\"ticks\":\"\"}},\"ternary\":{\"bgcolor\":\"#E5ECF6\",\"aaxis\":{\"gridcolor\":\"white\",\"linecolor\":\"white\",\"ticks\":\"\"},\"baxis\":{\"gridcolor\":\"white\",\"linecolor\":\"white\",\"ticks\":\"\"},\"caxis\":{\"gridcolor\":\"white\",\"linecolor\":\"white\",\"ticks\":\"\"}},\"coloraxis\":{\"colorbar\":{\"outlinewidth\":0,\"ticks\":\"\"}},\"colorscale\":{\"sequential\":[[0.0,\"#0d0887\"],[0.1111111111111111,\"#46039f\"],[0.2222222222222222,\"#7201a8\"],[0.3333333333333333,\"#9c179e\"],[0.4444444444444444,\"#bd3786\"],[0.5555555555555556,\"#d8576b\"],[0.6666666666666666,\"#ed7953\"],[0.7777777777777778,\"#fb9f3a\"],[0.8888888888888888,\"#fdca26\"],[1.0,\"#f0f921\"]],\"sequentialminus\":[[0.0,\"#0d0887\"],[0.1111111111111111,\"#46039f\"],[0.2222222222222222,\"#7201a8\"],[0.3333333333333333,\"#9c179e\"],[0.4444444444444444,\"#bd3786\"],[0.5555555555555556,\"#d8576b\"],[0.6666666666666666,\"#ed7953\"],[0.7777777777777778,\"#fb9f3a\"],[0.8888888888888888,\"#fdca26\"],[1.0,\"#f0f921\"]],\"diverging\":[[0,\"#8e0152\"],[0.1,\"#c51b7d\"],[0.2,\"#de77ae\"],[0.3,\"#f1b6da\"],[0.4,\"#fde0ef\"],[0.5,\"#f7f7f7\"],[0.6,\"#e6f5d0\"],[0.7,\"#b8e186\"],[0.8,\"#7fbc41\"],[0.9,\"#4d9221\"],[1,\"#276419\"]]},\"xaxis\":{\"gridcolor\":\"white\",\"linecolor\":\"white\",\"ticks\":\"\",\"title\":{\"standoff\":15},\"zerolinecolor\":\"white\",\"automargin\":true,\"zerolinewidth\":2},\"yaxis\":{\"gridcolor\":\"white\",\"linecolor\":\"white\",\"ticks\":\"\",\"title\":{\"standoff\":15},\"zerolinecolor\":\"white\",\"automargin\":true,\"zerolinewidth\":2},\"scene\":{\"xaxis\":{\"backgroundcolor\":\"#E5ECF6\",\"gridcolor\":\"white\",\"linecolor\":\"white\",\"showbackground\":true,\"ticks\":\"\",\"zerolinecolor\":\"white\",\"gridwidth\":2},\"yaxis\":{\"backgroundcolor\":\"#E5ECF6\",\"gridcolor\":\"white\",\"linecolor\":\"white\",\"showbackground\":true,\"ticks\":\"\",\"zerolinecolor\":\"white\",\"gridwidth\":2},\"zaxis\":{\"backgroundcolor\":\"#E5ECF6\",\"gridcolor\":\"white\",\"linecolor\":\"white\",\"showbackground\":true,\"ticks\":\"\",\"zerolinecolor\":\"white\",\"gridwidth\":2}},\"shapedefaults\":{\"line\":{\"color\":\"#2a3f5f\"}},\"annotationdefaults\":{\"arrowcolor\":\"#2a3f5f\",\"arrowhead\":0,\"arrowwidth\":1},\"geo\":{\"bgcolor\":\"white\",\"landcolor\":\"#E5ECF6\",\"subunitcolor\":\"white\",\"showland\":true,\"showlakes\":true,\"lakecolor\":\"white\"},\"title\":{\"x\":0.05},\"mapbox\":{\"style\":\"light\"}}},\"xaxis\":{\"anchor\":\"y\",\"domain\":[0.0,1.0],\"title\":{\"text\":\"x\"}},\"yaxis\":{\"anchor\":\"x\",\"domain\":[0.0,1.0],\"title\":{\"text\":\"y\"}},\"legend\":{\"tracegroupgap\":0},\"margin\":{\"t\":60}},                        {\"responsive\": true}                    ).then(function(){\n",
              "                            \n",
              "var gd = document.getElementById('8bcf0e84-57c4-4231-a599-d942c65382dc');\n",
              "var x = new MutationObserver(function (mutations, observer) {{\n",
              "        var display = window.getComputedStyle(gd).display;\n",
              "        if (!display || display === 'none') {{\n",
              "            console.log([gd, 'removed!']);\n",
              "            Plotly.purge(gd);\n",
              "            observer.disconnect();\n",
              "        }}\n",
              "}});\n",
              "\n",
              "// Listen for the removal of the full notebook cells\n",
              "var notebookContainer = gd.closest('#notebook-container');\n",
              "if (notebookContainer) {{\n",
              "    x.observe(notebookContainer, {childList: true});\n",
              "}}\n",
              "\n",
              "// Listen for the clearing of the current output cell\n",
              "var outputEl = gd.closest('.output');\n",
              "if (outputEl) {{\n",
              "    x.observe(outputEl, {childList: true});\n",
              "}}\n",
              "\n",
              "                        })                };                            </script>        </div>\n",
              "</body>\n",
              "</html>"
            ]
          },
          "metadata": {}
        }
      ],
      "source": [
        "# Graficar los embedddings en 2D\n",
        "import plotly.graph_objects as go\n",
        "import plotly.express as px\n",
        "\n",
        "vecs, labels = reduce_dimensions(w2v_model)\n",
        "\n",
        "MAX_WORDS=200\n",
        "fig = px.scatter(x=vecs[:MAX_WORDS,0], y=vecs[:MAX_WORDS,1], text=labels[:MAX_WORDS])\n",
        "fig.show(renderer=\"colab\") # esto para plotly en colab"
      ]
    },
    {
      "cell_type": "code",
      "execution_count": 302,
      "metadata": {
        "id": "41qn1UG_uqUl",
        "colab": {
          "base_uri": "https://localhost:8080/",
          "height": 542
        },
        "outputId": "646b31f2-ec71-400d-d997-1c6e7d67f256"
      },
      "outputs": [
        {
          "output_type": "display_data",
          "data": {
            "text/html": [
              "<html>\n",
              "<head><meta charset=\"utf-8\" /></head>\n",
              "<body>\n",
              "    <div>            <script src=\"https://cdnjs.cloudflare.com/ajax/libs/mathjax/2.7.5/MathJax.js?config=TeX-AMS-MML_SVG\"></script><script type=\"text/javascript\">if (window.MathJax && window.MathJax.Hub && window.MathJax.Hub.Config) {window.MathJax.Hub.Config({SVG: {font: \"STIX-Web\"}});}</script>                <script type=\"text/javascript\">window.PlotlyConfig = {MathJaxConfig: 'local'};</script>\n",
              "        <script charset=\"utf-8\" src=\"https://cdn.plot.ly/plotly-2.35.2.min.js\"></script>                <div id=\"e54cd5b8-4779-4be2-b012-07cf37d6bcdf\" class=\"plotly-graph-div\" style=\"height:525px; width:100%;\"></div>            <script type=\"text/javascript\">                                    window.PLOTLYENV=window.PLOTLYENV || {};                                    if (document.getElementById(\"e54cd5b8-4779-4be2-b012-07cf37d6bcdf\")) {                    Plotly.newPlot(                        \"e54cd5b8-4779-4be2-b012-07cf37d6bcdf\",                        [{\"hovertemplate\":\"x=%{x}\\u003cbr\\u003ey=%{y}\\u003cbr\\u003ez=%{z}\\u003cbr\\u003etext=%{text}\\u003cextra\\u003e\\u003c\\u002fextra\\u003e\",\"legendgroup\":\"\",\"marker\":{\"color\":\"#636efa\",\"symbol\":\"circle\",\"size\":2},\"mode\":\"markers+text\",\"name\":\"\",\"scene\":\"scene\",\"showlegend\":false,\"text\":[\"tío\",\"si\",\"profesor\",\"hans\",\"después\",\"vez\",\"aquel\",\"dos\",\"tan\",\"mar\",\"bien\",\"agua\",\"pues\",\"entonces\",\"pies\",\"tierra\",\"usted\",\"tiempo\",\"ser\",\"hacia\",\"menos\",\"gran\",\"fin\",\"preciso\",\"superficie\",\"mismo\",\"momento\",\"balsa\",\"toda\",\"embargo\",\"hombre\",\"duda\",\"medio\",\"aún\",\"bajo\",\"ojos\",\"camino\",\"palabras\",\"axel\",\"sólo\",\"cabeza\",\"tres\",\"lidenbrock\",\"todas\",\"leguas\",\"aquella\",\"aquí\",\"señor\",\"efecto\",\"así\",\"podía\",\"cada\",\"hora\",\"—sí\",\"día\",\"mano\",\"globo\",\"viaje\",\"hecho\",\"modo\",\"aire\",\"parte\",\"horas\",\"galería\",\"rocas\",\"noche\",\"luz\",\"ver\",\"alguna\",\"—me\",\"—no\",\"sneffels\",\"—dijo\",\"¿qué\",\"tal\",\"mundo\",\"sido\",\"islandia\",\"parecía\",\"marcha\",\"días\",\"roca\",\"bastante\",\"granito\",\"veces\",\"—exclamé\",\"palabra\",\"ahora\",\"decir\",\"—¿qué\",\"saknussemm\",\"tío—\",\"fondo\",\"capítulo\",\"algún\",\"mañana\",\"aquellas\",\"centro\",\"islandés\",\"calor\",\"nuevo\",\"cráter\",\"—exclamó\",\"nombre\",\"llegar\",\"puede\",\"manos\",\"suelo\",\"ningún\",\"iba\",\"media\",\"—respondió\",\"manera\",\"dijo\",\"hacer\",\"terrestre\",\"guía\",\"posible\",\"haber\",\"¿no\",\"diez\",\"través\",\"hizo\",\"especie\",\"voz\",\"seguida\",\"punto\",\"interior\",\"mil\",\"jamás\",\"suerte\",\"siempre\",\"vista\",\"imposible\",\"razón\",\"lejos\",\"dar\",\"—pero\",\"hijo\",\"casa\",\"parece\",\"cazador\",\"capas\",\"mas\",\"largo\",\"mayor\",\"idea\",\"debajo\",\"cuya\",\"olas\",\"solo\",\"labios\",\"pared\",\"viento\",\"pesar\",\"paso\",\"tarde\",\"isla\",\"velocidad\",\"grandes\",\"mientras\",\"lava\",\"enorme\",\"vi\",\"aquellos\",\"documento\",\"siguiente\",\"seis\",\"cabo\",\"temperatura\",\"allí\",\"debía\",\"semejante\",\"misma\",\"cuyo\",\"hallaba\",\"vamos\",\"aunque\",\"paredes\",\"¡qué\",\"cuatro\",\"casi\",\"cinco\",\"graüben\",\"cuales\",\"profundidad\",\"éste\",\"pasos\",\"océano\",\"corteza\",\"sabio\",\"—¿y\",\"todavía\",\"volcán\",\"silencio\",\"animales\",\"ruido\",\"pronto\",\"sino\",\"cierto\"],\"x\":[29.196306,10.085492,29.023207,-0.7348701,-7.356923,-3.1192164,-1.4959923,-13.893352,10.745502,-20.71678,23.301199,-22.461151,18.67999,10.656293,-25.860853,-9.700822,33.38651,-7.307249,3.9981155,-7.311304,-10.279163,4.5689116,10.088491,3.8496895,-4.107162,13.335315,2.8176548,0.034051742,5.423248,9.692657,21.824467,7.388362,-10.816375,4.807346,-27.076542,5.154024,-5.3205376,17.359404,36.555332,-8.332284,2.7672863,-13.596912,27.888435,-29.117203,-21.080675,-8.009169,22.821096,29.988764,-2.1493626,12.675117,-0.24018565,-5.5656123,-17.7227,33.10255,-4.908897,-4.3623834,-10.708074,16.810352,16.758871,6.4471984,-13.644641,-14.131733,-10.056031,-12.163509,-26.79525,-2.6449172,-26.266203,7.2930026,8.901726,34.7766,31.802097,-20.575142,32.944336,29.06907,18.474756,-28.449049,16.097698,-8.77583,-10.851978,-4.9035373,-16.470474,-11.48211,-10.988358,-30.299856,-15.51615,29.089573,22.795439,26.27102,34.820187,35.69665,13.6658125,35.90619,-16.732977,-17.59241,-4.129504,-6.525894,-28.15474,-4.1920967,16.43437,-14.525194,-3.889817,-22.191185,33.04969,5.9652095,-0.26367965,4.9080224,10.5200815,-16.273085,7.028354,-1.6813143,-17.448217,32.2952,-3.9051824,33.537567,18.818764,-21.105045,22.835896,9.6633,-2.747957,29.49047,-15.69086,-22.666607,13.934174,-16.781105,18.363504,18.404442,-2.006726,-17.96758,-19.522482,10.195078,12.14404,4.6081414,1.309104,9.521561,21.980316,11.653036,14.430108,32.17637,32.916744,23.022985,18.042835,17.988705,-27.933908,5.298349,-12.022766,-8.676645,26.203194,-16.841227,-28.257868,-19.654438,8.940426,12.358085,7.932349,-3.6969264,6.1289773,-5.3706293,-9.531688,-16.700552,-17.26933,-26.964886,3.828441,-26.606844,-22.704586,-1.1265643,-20.04782,20.394958,-8.40646,-13.849113,-3.1964679,-16.707758,-10.755695,3.640256,23.144192,-4.649548,-15.80437,3.007397,26.836931,2.357603,-29.964668,14.330943,-17.151577,-9.333735,-16.067196,23.715796,-22.628323,-24.118616,28.484535,-20.15283,-23.782906,-23.171833,16.636446,25.720135,5.809859,-19.113323,2.0922267,-25.217407,-10.516164,11.850771,3.2865467,30.548286],\"y\":[7.133638,-7.038455,2.7179613,19.242859,10.755533,25.66,0.49239773,8.991005,-11.764891,4.10257,-1.4155959,-13.354486,2.6158984,9.163764,13.110443,-11.408909,-3.6195138,24.210325,-15.034001,18.962767,7.0124454,-27.614834,18.208689,7.5538945,-13.214551,0.5705025,3.7373118,20.293415,-1.8051431,-20.256891,-13.836245,-25.06901,-15.468036,0.44231835,6.0311565,15.60738,-2.1555588,21.386961,2.4931264,-10.664393,21.694342,10.406415,0.02456426,-3.6697884,13.984149,24.77837,-11.50786,-5.2852216,2.7418134,-7.6605844,-18.187603,26.46498,16.55609,-3.7912157,23.833206,18.61288,-10.147276,-4.093132,-17.592236,-4.2019434,-25.441874,-9.543738,13.949986,-5.865199,0.21603574,15.881384,-3.9674635,-7.2017493,-24.137083,2.2331083,1.6896771,16.246288,-4.1685557,0.44450846,-20.754787,-16.487125,-17.353851,2.0257704,-13.01166,17.919033,5.362419,-2.1502166,22.73101,0.27588537,6.0958858,-5.537203,9.90704,-9.076157,-2.8958359,-1.8538556,-12.891802,-2.0967999,10.793768,8.591136,-27.205866,23.759995,-1.1034831,-9.624317,15.999908,-19.084684,20.466894,12.1526,-7.2424912,-7.175656,-4.4230943,-20.774601,10.98857,3.4853086,-24.681776,3.81408,18.897062,-4.895705,-22.371956,6.791644,9.6752615,-19.135239,-15.568829,-18.42535,-8.675968,-5.5321946,16.565762,-15.542652,16.545816,-0.8499195,16.98826,15.881919,9.220031,-15.991042,8.225694,-1.0604149,23.677393,-15.638442,14.932795,1.2423508,-9.191687,-20.039026,-19.53004,-5.490141,4.6080165,14.246957,5.504,15.7324505,-9.461406,4.025813,20.606651,-17.698038,-7.911288,-1.3078839,-12.395976,-3.510505,9.752368,19.555109,19.595127,20.320238,-10.714148,3.9990225,17.69564,-10.982193,9.97854,-5.4200687,6.5002055,-1.9779761,3.9116278,17.264141,-5.686283,-15.742553,22.639587,18.99605,15.393315,-20.313889,5.5848045,-18.938745,-6.6444244,0.6568016,-0.042623222,12.075845,-2.043776,9.878683,-3.465084,-14.375914,10.211959,18.699211,16.492275,11.74126,-0.0074463612,9.658785,5.65008,3.1235106,4.7581167,-18.945427,-12.613066,-6.213713,4.373124,12.657868,19.20654,-8.693645,7.444695,-16.689095,-22.121279,-12.359448],\"z\":[-9.196178,10.952837,-10.411212,9.8253975,-21.628677,4.750613,20.984154,-14.439795,-16.525251,15.957917,15.658159,12.833422,13.066245,1.6204785,-5.0871162,19.288347,7.7989683,-5.806239,12.5279875,16.312517,-18.433155,6.8693647,-7.288302,-12.054287,20.743736,14.351511,18.270311,15.037685,18.413397,-9.132797,1.2032899,-7.580824,-18.037294,-19.981396,5.7117753,-5.0977144,21.164228,-0.41050458,1.1253647,-13.981337,6.487485,-18.385798,-16.830397,-6.4334044,-14.837828,11.417507,14.907687,-16.160877,0.58864456,18.574415,13.111476,0.5769476,-4.5007415,-0.8544008,-13.322208,8.553977,18.876919,17.511684,4.876931,-8.181239,2.2064562,-8.885221,-18.104586,-23.771368,3.202121,-13.921112,17.170715,-12.835034,-0.352701,5.1012874,-2.5978572,17.219837,-7.7873344,7.271976,8.376765,-5.7011127,11.704412,-24.254696,-6.944517,-18.027834,-17.681698,17.489674,-6.4169235,13.37409,-0.8073143,5.13278,5.4155974,8.664839,10.52012,1.2077101,14.334109,-2.7112985,16.21393,-5.6792955,2.9150882,-11.125957,-0.47248518,21.35841,4.509266,9.059499,-8.589536,15.891339,-4.956323,14.334396,24.135317,12.548109,6.7305503,20.181879,-5.6838217,14.083423,-7.7789297,-6.667822,11.21947,-1.5993706,-10.666368,1.3931279,-8.399946,-1.2993671,-19.087507,8.13841,-18.90299,2.6987808,-17.804247,14.195395,-0.05869666,-13.704124,-13.927957,8.635099,-13.927289,-21.956848,-2.6741347,17.331781,9.455935,18.393326,-1.6333274,7.8203597,-1.9294413,4.4670916,3.7954175,-8.894712,17.574892,-4.6935377,4.7544575,-23.727133,5.094003,-10.963789,-2.5991812,-5.3395267,11.953554,-13.501891,-18.015966,3.2936945,4.7638264,-4.369156,-20.48147,12.788427,-16.29004,18.943773,0.67744577,-5.016579,8.793716,11.135112,3.7134202,5.3364167,-5.2908173,5.389904,-14.459674,-15.357385,-9.989476,6.1529627,-6.8306375,15.725571,16.394537,9.795057,19.497622,19.774807,11.438755,0.20088111,11.024849,-13.662063,-16.45755,5.9367857,-14.980826,-3.9177485,-6.3606167,-7.2648716,-8.489436,-10.66364,11.245853,5.928586,-6.595643,2.622198,-11.732589,18.843018,-12.79018,-8.670312,9.22318,10.135554,6.9332695,-1.1779865],\"type\":\"scatter3d\"}],                        {\"template\":{\"data\":{\"histogram2dcontour\":[{\"type\":\"histogram2dcontour\",\"colorbar\":{\"outlinewidth\":0,\"ticks\":\"\"},\"colorscale\":[[0.0,\"#0d0887\"],[0.1111111111111111,\"#46039f\"],[0.2222222222222222,\"#7201a8\"],[0.3333333333333333,\"#9c179e\"],[0.4444444444444444,\"#bd3786\"],[0.5555555555555556,\"#d8576b\"],[0.6666666666666666,\"#ed7953\"],[0.7777777777777778,\"#fb9f3a\"],[0.8888888888888888,\"#fdca26\"],[1.0,\"#f0f921\"]]}],\"choropleth\":[{\"type\":\"choropleth\",\"colorbar\":{\"outlinewidth\":0,\"ticks\":\"\"}}],\"histogram2d\":[{\"type\":\"histogram2d\",\"colorbar\":{\"outlinewidth\":0,\"ticks\":\"\"},\"colorscale\":[[0.0,\"#0d0887\"],[0.1111111111111111,\"#46039f\"],[0.2222222222222222,\"#7201a8\"],[0.3333333333333333,\"#9c179e\"],[0.4444444444444444,\"#bd3786\"],[0.5555555555555556,\"#d8576b\"],[0.6666666666666666,\"#ed7953\"],[0.7777777777777778,\"#fb9f3a\"],[0.8888888888888888,\"#fdca26\"],[1.0,\"#f0f921\"]]}],\"heatmap\":[{\"type\":\"heatmap\",\"colorbar\":{\"outlinewidth\":0,\"ticks\":\"\"},\"colorscale\":[[0.0,\"#0d0887\"],[0.1111111111111111,\"#46039f\"],[0.2222222222222222,\"#7201a8\"],[0.3333333333333333,\"#9c179e\"],[0.4444444444444444,\"#bd3786\"],[0.5555555555555556,\"#d8576b\"],[0.6666666666666666,\"#ed7953\"],[0.7777777777777778,\"#fb9f3a\"],[0.8888888888888888,\"#fdca26\"],[1.0,\"#f0f921\"]]}],\"heatmapgl\":[{\"type\":\"heatmapgl\",\"colorbar\":{\"outlinewidth\":0,\"ticks\":\"\"},\"colorscale\":[[0.0,\"#0d0887\"],[0.1111111111111111,\"#46039f\"],[0.2222222222222222,\"#7201a8\"],[0.3333333333333333,\"#9c179e\"],[0.4444444444444444,\"#bd3786\"],[0.5555555555555556,\"#d8576b\"],[0.6666666666666666,\"#ed7953\"],[0.7777777777777778,\"#fb9f3a\"],[0.8888888888888888,\"#fdca26\"],[1.0,\"#f0f921\"]]}],\"contourcarpet\":[{\"type\":\"contourcarpet\",\"colorbar\":{\"outlinewidth\":0,\"ticks\":\"\"}}],\"contour\":[{\"type\":\"contour\",\"colorbar\":{\"outlinewidth\":0,\"ticks\":\"\"},\"colorscale\":[[0.0,\"#0d0887\"],[0.1111111111111111,\"#46039f\"],[0.2222222222222222,\"#7201a8\"],[0.3333333333333333,\"#9c179e\"],[0.4444444444444444,\"#bd3786\"],[0.5555555555555556,\"#d8576b\"],[0.6666666666666666,\"#ed7953\"],[0.7777777777777778,\"#fb9f3a\"],[0.8888888888888888,\"#fdca26\"],[1.0,\"#f0f921\"]]}],\"surface\":[{\"type\":\"surface\",\"colorbar\":{\"outlinewidth\":0,\"ticks\":\"\"},\"colorscale\":[[0.0,\"#0d0887\"],[0.1111111111111111,\"#46039f\"],[0.2222222222222222,\"#7201a8\"],[0.3333333333333333,\"#9c179e\"],[0.4444444444444444,\"#bd3786\"],[0.5555555555555556,\"#d8576b\"],[0.6666666666666666,\"#ed7953\"],[0.7777777777777778,\"#fb9f3a\"],[0.8888888888888888,\"#fdca26\"],[1.0,\"#f0f921\"]]}],\"mesh3d\":[{\"type\":\"mesh3d\",\"colorbar\":{\"outlinewidth\":0,\"ticks\":\"\"}}],\"scatter\":[{\"fillpattern\":{\"fillmode\":\"overlay\",\"size\":10,\"solidity\":0.2},\"type\":\"scatter\"}],\"parcoords\":[{\"type\":\"parcoords\",\"line\":{\"colorbar\":{\"outlinewidth\":0,\"ticks\":\"\"}}}],\"scatterpolargl\":[{\"type\":\"scatterpolargl\",\"marker\":{\"colorbar\":{\"outlinewidth\":0,\"ticks\":\"\"}}}],\"bar\":[{\"error_x\":{\"color\":\"#2a3f5f\"},\"error_y\":{\"color\":\"#2a3f5f\"},\"marker\":{\"line\":{\"color\":\"#E5ECF6\",\"width\":0.5},\"pattern\":{\"fillmode\":\"overlay\",\"size\":10,\"solidity\":0.2}},\"type\":\"bar\"}],\"scattergeo\":[{\"type\":\"scattergeo\",\"marker\":{\"colorbar\":{\"outlinewidth\":0,\"ticks\":\"\"}}}],\"scatterpolar\":[{\"type\":\"scatterpolar\",\"marker\":{\"colorbar\":{\"outlinewidth\":0,\"ticks\":\"\"}}}],\"histogram\":[{\"marker\":{\"pattern\":{\"fillmode\":\"overlay\",\"size\":10,\"solidity\":0.2}},\"type\":\"histogram\"}],\"scattergl\":[{\"type\":\"scattergl\",\"marker\":{\"colorbar\":{\"outlinewidth\":0,\"ticks\":\"\"}}}],\"scatter3d\":[{\"type\":\"scatter3d\",\"line\":{\"colorbar\":{\"outlinewidth\":0,\"ticks\":\"\"}},\"marker\":{\"colorbar\":{\"outlinewidth\":0,\"ticks\":\"\"}}}],\"scattermapbox\":[{\"type\":\"scattermapbox\",\"marker\":{\"colorbar\":{\"outlinewidth\":0,\"ticks\":\"\"}}}],\"scatterternary\":[{\"type\":\"scatterternary\",\"marker\":{\"colorbar\":{\"outlinewidth\":0,\"ticks\":\"\"}}}],\"scattercarpet\":[{\"type\":\"scattercarpet\",\"marker\":{\"colorbar\":{\"outlinewidth\":0,\"ticks\":\"\"}}}],\"carpet\":[{\"aaxis\":{\"endlinecolor\":\"#2a3f5f\",\"gridcolor\":\"white\",\"linecolor\":\"white\",\"minorgridcolor\":\"white\",\"startlinecolor\":\"#2a3f5f\"},\"baxis\":{\"endlinecolor\":\"#2a3f5f\",\"gridcolor\":\"white\",\"linecolor\":\"white\",\"minorgridcolor\":\"white\",\"startlinecolor\":\"#2a3f5f\"},\"type\":\"carpet\"}],\"table\":[{\"cells\":{\"fill\":{\"color\":\"#EBF0F8\"},\"line\":{\"color\":\"white\"}},\"header\":{\"fill\":{\"color\":\"#C8D4E3\"},\"line\":{\"color\":\"white\"}},\"type\":\"table\"}],\"barpolar\":[{\"marker\":{\"line\":{\"color\":\"#E5ECF6\",\"width\":0.5},\"pattern\":{\"fillmode\":\"overlay\",\"size\":10,\"solidity\":0.2}},\"type\":\"barpolar\"}],\"pie\":[{\"automargin\":true,\"type\":\"pie\"}]},\"layout\":{\"autotypenumbers\":\"strict\",\"colorway\":[\"#636efa\",\"#EF553B\",\"#00cc96\",\"#ab63fa\",\"#FFA15A\",\"#19d3f3\",\"#FF6692\",\"#B6E880\",\"#FF97FF\",\"#FECB52\"],\"font\":{\"color\":\"#2a3f5f\"},\"hovermode\":\"closest\",\"hoverlabel\":{\"align\":\"left\"},\"paper_bgcolor\":\"white\",\"plot_bgcolor\":\"#E5ECF6\",\"polar\":{\"bgcolor\":\"#E5ECF6\",\"angularaxis\":{\"gridcolor\":\"white\",\"linecolor\":\"white\",\"ticks\":\"\"},\"radialaxis\":{\"gridcolor\":\"white\",\"linecolor\":\"white\",\"ticks\":\"\"}},\"ternary\":{\"bgcolor\":\"#E5ECF6\",\"aaxis\":{\"gridcolor\":\"white\",\"linecolor\":\"white\",\"ticks\":\"\"},\"baxis\":{\"gridcolor\":\"white\",\"linecolor\":\"white\",\"ticks\":\"\"},\"caxis\":{\"gridcolor\":\"white\",\"linecolor\":\"white\",\"ticks\":\"\"}},\"coloraxis\":{\"colorbar\":{\"outlinewidth\":0,\"ticks\":\"\"}},\"colorscale\":{\"sequential\":[[0.0,\"#0d0887\"],[0.1111111111111111,\"#46039f\"],[0.2222222222222222,\"#7201a8\"],[0.3333333333333333,\"#9c179e\"],[0.4444444444444444,\"#bd3786\"],[0.5555555555555556,\"#d8576b\"],[0.6666666666666666,\"#ed7953\"],[0.7777777777777778,\"#fb9f3a\"],[0.8888888888888888,\"#fdca26\"],[1.0,\"#f0f921\"]],\"sequentialminus\":[[0.0,\"#0d0887\"],[0.1111111111111111,\"#46039f\"],[0.2222222222222222,\"#7201a8\"],[0.3333333333333333,\"#9c179e\"],[0.4444444444444444,\"#bd3786\"],[0.5555555555555556,\"#d8576b\"],[0.6666666666666666,\"#ed7953\"],[0.7777777777777778,\"#fb9f3a\"],[0.8888888888888888,\"#fdca26\"],[1.0,\"#f0f921\"]],\"diverging\":[[0,\"#8e0152\"],[0.1,\"#c51b7d\"],[0.2,\"#de77ae\"],[0.3,\"#f1b6da\"],[0.4,\"#fde0ef\"],[0.5,\"#f7f7f7\"],[0.6,\"#e6f5d0\"],[0.7,\"#b8e186\"],[0.8,\"#7fbc41\"],[0.9,\"#4d9221\"],[1,\"#276419\"]]},\"xaxis\":{\"gridcolor\":\"white\",\"linecolor\":\"white\",\"ticks\":\"\",\"title\":{\"standoff\":15},\"zerolinecolor\":\"white\",\"automargin\":true,\"zerolinewidth\":2},\"yaxis\":{\"gridcolor\":\"white\",\"linecolor\":\"white\",\"ticks\":\"\",\"title\":{\"standoff\":15},\"zerolinecolor\":\"white\",\"automargin\":true,\"zerolinewidth\":2},\"scene\":{\"xaxis\":{\"backgroundcolor\":\"#E5ECF6\",\"gridcolor\":\"white\",\"linecolor\":\"white\",\"showbackground\":true,\"ticks\":\"\",\"zerolinecolor\":\"white\",\"gridwidth\":2},\"yaxis\":{\"backgroundcolor\":\"#E5ECF6\",\"gridcolor\":\"white\",\"linecolor\":\"white\",\"showbackground\":true,\"ticks\":\"\",\"zerolinecolor\":\"white\",\"gridwidth\":2},\"zaxis\":{\"backgroundcolor\":\"#E5ECF6\",\"gridcolor\":\"white\",\"linecolor\":\"white\",\"showbackground\":true,\"ticks\":\"\",\"zerolinecolor\":\"white\",\"gridwidth\":2}},\"shapedefaults\":{\"line\":{\"color\":\"#2a3f5f\"}},\"annotationdefaults\":{\"arrowcolor\":\"#2a3f5f\",\"arrowhead\":0,\"arrowwidth\":1},\"geo\":{\"bgcolor\":\"white\",\"landcolor\":\"#E5ECF6\",\"subunitcolor\":\"white\",\"showland\":true,\"showlakes\":true,\"lakecolor\":\"white\"},\"title\":{\"x\":0.05},\"mapbox\":{\"style\":\"light\"}}},\"scene\":{\"domain\":{\"x\":[0.0,1.0],\"y\":[0.0,1.0]},\"xaxis\":{\"title\":{\"text\":\"x\"}},\"yaxis\":{\"title\":{\"text\":\"y\"}},\"zaxis\":{\"title\":{\"text\":\"z\"}}},\"legend\":{\"tracegroupgap\":0},\"margin\":{\"t\":60}},                        {\"responsive\": true}                    ).then(function(){\n",
              "                            \n",
              "var gd = document.getElementById('e54cd5b8-4779-4be2-b012-07cf37d6bcdf');\n",
              "var x = new MutationObserver(function (mutations, observer) {{\n",
              "        var display = window.getComputedStyle(gd).display;\n",
              "        if (!display || display === 'none') {{\n",
              "            console.log([gd, 'removed!']);\n",
              "            Plotly.purge(gd);\n",
              "            observer.disconnect();\n",
              "        }}\n",
              "}});\n",
              "\n",
              "// Listen for the removal of the full notebook cells\n",
              "var notebookContainer = gd.closest('#notebook-container');\n",
              "if (notebookContainer) {{\n",
              "    x.observe(notebookContainer, {childList: true});\n",
              "}}\n",
              "\n",
              "// Listen for the clearing of the current output cell\n",
              "var outputEl = gd.closest('.output');\n",
              "if (outputEl) {{\n",
              "    x.observe(outputEl, {childList: true});\n",
              "}}\n",
              "\n",
              "                        })                };                            </script>        </div>\n",
              "</body>\n",
              "</html>"
            ]
          },
          "metadata": {}
        }
      ],
      "source": [
        "# Graficar los embedddings en 3D\n",
        "\n",
        "vecs, labels = reduce_dimensions(w2v_model,3)\n",
        "\n",
        "fig = px.scatter_3d(x=vecs[:MAX_WORDS,0], y=vecs[:MAX_WORDS,1], z=vecs[:MAX_WORDS,2],text=labels[:MAX_WORDS])\n",
        "fig.update_traces(marker_size = 2)\n",
        "fig.show(renderer=\"colab\") # esto para plotly en colab"
      ]
    },
    {
      "cell_type": "code",
      "execution_count": 303,
      "metadata": {
        "id": "wK3F4sGtuqUl"
      },
      "outputs": [],
      "source": [
        "# También se pueden guardar los vectores y labels como tsv para graficar en\n",
        "# http://projector.tensorflow.org/\n",
        "\n",
        "\n",
        "vectors = np.asarray(w2v_model.wv.vectors)\n",
        "labels = list(w2v_model.wv.index_to_key)\n",
        "\n",
        "np.savetxt(\"vectors.tsv\", vectors, delimiter=\"\\t\")\n",
        "\n",
        "with open(\"labels.tsv\", \"w\") as fp:\n",
        "    for item in labels:\n",
        "        fp.write(\"%s\\n\" % item)"
      ]
    },
    {
      "cell_type": "markdown",
      "source": [
        "# **Conclusiones**\n",
        "\n",
        "**Texto**: \"Viaje al centro de la Tierra\"\n",
        "\n",
        "**Preprocesamiento**: se eliminaron las palabras de tipo \"stopwords\" de los documentos, debido a que en un ensayo inicial, el modelo tenía un rendimiento bajo mostrando como palabras relacionadas algunas que parecían tener una relación semántica coherente.\n",
        "\n",
        "\n",
        "---\n",
        "\n",
        "\n",
        "### **Ensayo 1**\n",
        "\n",
        "El modelo fue capaz de aprender vectores representativos que reflejan contexto semántico.\n",
        "\n",
        "Las palabras consultadas (\"terrestre\", \"roca\", \"volcanes\") muestran relaciones con otras palabra en forma coherente.\n",
        "\n",
        "Revisando las visualizaciones en 2D y 3D, se observa agrupaciones también coherentes.\n",
        "\n",
        "\n",
        "- **Palabras ejemplo (Ensayo 1)**\n",
        "\n",
        "| Palabra base | Palabras más similares                                                                                  | Puntajes de similitud     |\n",
        "|--------------|----------------------------------------------------------------------------------------------------------|----------------------------|\n",
        "| **terrestre** | través, macizo, aguas, capas, mineral, granito, temperatura, masa, radio, plantas                      | 0.875 → 0.769              |\n",
        "| **roca**      | nubes, lava, cuyas, forma, halla, formado, ciertos, aspecto, cuyo, bóveda                              | 0.946 → 0.929              |\n",
        "| **volcanes**  | alegría, escapó, geólogos, atlántico, límites, asombro, común, subterráneos, blanca, volcánica         | 0.991 → 0.990              |\n",
        "\n",
        "\n",
        "- **Configuración de hiperparámetros**\n",
        "\n",
        "\n",
        "```\n",
        "epochs=20\n",
        "\n",
        "w2v_model = Word2Vec(min_count=5,    # frecuencia mínima de palabra para incluirla en el vocabulario\n",
        "                     window=2,       # cant de palabras antes y desp de la predicha\n",
        "                     vector_size=300, # dimensionalidad de los vectores\n",
        "                     negative=20,    # cantidad de negative samples... 0 es no se usa\n",
        "                     workers=1,      # si tienen más cores pueden cambiar este valor\n",
        "                     sg=1)           # modelo 0:CBOW  1:skipgram\n",
        "```\n",
        "\n",
        "---\n",
        "\n",
        "\n",
        "### **Ensayo 2**\n",
        "En este ensayo se aumento de vector_size=500 y epochs=40.\n",
        "\n",
        "Los valores de similitud han disminuido respecto al Ensayo 1. En los gráficos, no se aprecian tan bien las agrupaciones de palanras.\n",
        "\n",
        "Las palabras similares están menos relacionadas semánticamente (por ejemplo, “gusto” como similar a “volcanes” no es muy intuitivo).\n",
        "\n",
        "El aumento de vector_size y epochs no mejoró el resultado, y posiblemente lo haya llevado a un sobreajuste.\n",
        "\n",
        "- **Palabras ejemplo (Ensayo 2)**\n",
        "\n",
        "| Palabra base | Palabras más similares                                                                                         | Puntajes de similitud     |\n",
        "|--------------|-----------------------------------------------------------------------------------------------------------------|----------------------------|\n",
        "| **terrestre** | mineral, gases, interiores, suponer, hulla, límite, sinuosidades, opinión, base, enfriamiento                 | 0.800 → 0.653              |\n",
        "| **roca**      | sorprendente, atracción, pozo, trozo, convicción, dedo, marchaba, abierto, existía, criptograma               | 0.617 → 0.566              |\n",
        "| **volcanes**  | ciudades, mares, gusto, naturales, volcánica, principal, árboles, subterráneos, encuentran, despojos          | 0.746 → 0.707              |\n",
        "\n",
        "\n",
        "- **Configuración de hiperparámetros**\n",
        "\n",
        "\n",
        "```\n",
        "epochs=40\n",
        "\n",
        "w2v_model = Word2Vec(min_count=5,    # frecuencia mínima de palabra para incluirla en el vocabulario\n",
        "                     window=2,       # cant de palabras antes y desp de la predicha\n",
        "                     vector_size=500, # dimensionalidad de los vectores\n",
        "                     negative=20,    # cantidad de negative samples... 0 es no se usa\n",
        "                     workers=1,      # si tienen más cores pueden cambiar este valor\n",
        "                     sg=1)           # modelo 0:CBOW  1:skipgram\n",
        "```\n",
        "\n",
        "### **Otros ensayos**\n",
        "\n",
        "Disminuir el \"vector_size\", por ejemplo a 200 o menos también empeoró el rendimiento, disminuyendo los valores de similitud. Y en este caso, aumentar la cantidad de epochs tampoco ayudó.\n",
        "\n",
        "Por otro lado aumentar el \"window\", para considerar más cantidad de palabras antes y después tuvo el mismo efecto, disminuyendo los valores de similitud."
      ],
      "metadata": {
        "id": "v2JKFYjIAfaF"
      }
    }
  ],
  "metadata": {
    "colab": {
      "provenance": [],
      "toc_visible": true
    },
    "kernelspec": {
      "display_name": "Python 3 (ipykernel)",
      "language": "python",
      "name": "python3"
    },
    "language_info": {
      "codemirror_mode": {
        "name": "ipython",
        "version": 3
      },
      "file_extension": ".py",
      "mimetype": "text/x-python",
      "name": "python",
      "nbconvert_exporter": "python",
      "pygments_lexer": "ipython3",
      "version": "3.10.6"
    }
  },
  "nbformat": 4,
  "nbformat_minor": 0
}